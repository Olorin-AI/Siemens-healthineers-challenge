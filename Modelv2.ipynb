{
  "nbformat": 4,
  "nbformat_minor": 0,
  "metadata": {
    "colab": {
      "name": "Model.ipynb",
      "provenance": [],
      "collapsed_sections": [
        "Pxt7IOh2aCYb"
      ]
    },
    "kernelspec": {
      "name": "python3",
      "display_name": "Python 3"
    },
    "language_info": {
      "name": "python"
    }
  },
  "cells": [
    {
      "cell_type": "code",
      "execution_count": 156,
      "metadata": {
        "id": "pMk7pJtuAJ06",
        "colab": {
          "base_uri": "https://localhost:8080/"
        },
        "outputId": "3a363bee-9917-4b90-e91c-0c22ced44819"
      },
      "outputs": [
        {
          "output_type": "stream",
          "name": "stdout",
          "text": [
            "Drive already mounted at /content/drive; to attempt to forcibly remount, call drive.mount(\"/content/drive\", force_remount=True).\n"
          ]
        }
      ],
      "source": [
        "from google.colab import drive\n",
        "drive.mount(\"/content/drive\")"
      ]
    },
    {
      "cell_type": "code",
      "source": [
        "import pandas as pd\n",
        "import numpy as np"
      ],
      "metadata": {
        "id": "PaWL4JrYAMxG"
      },
      "execution_count": 157,
      "outputs": []
    },
    {
      "cell_type": "code",
      "source": [
        "path='/content/drive/MyDrive/TumAI Challenge/attempt1/virtual_clinic_extract.csv'"
      ],
      "metadata": {
        "id": "B9QajqXEAU3D"
      },
      "execution_count": 158,
      "outputs": []
    },
    {
      "cell_type": "code",
      "source": [
        "virtual_clinic_extract = pd.read_csv(path)"
      ],
      "metadata": {
        "id": "rs31cm0CAm1m"
      },
      "execution_count": 159,
      "outputs": []
    },
    {
      "cell_type": "code",
      "source": [
        "virtual_clinic_extract=virtual_clinic_extract.dropna(axis=1, how='all')\n",
        "virtual_clinic_extract.columns = ['case-number', 'clinic-name', 'year','age-group\t','icd main-diagnosis','length of stay in days','inlier-type','admission-date','admission-time','secondary-diagnoses','procedures']\n",
        "virtual_clinic_extract=virtual_clinic_extract.dropna(axis=0, how='all')\n",
        "virtual_clinic_extract=virtual_clinic_extract.iloc[3:]\n",
        "virtual_clinic_extract=virtual_clinic_extract.reset_index()\n",
        "virtual_clinic_extract=virtual_clinic_extract.drop(columns=['index'])\n",
        "virtual_clinic_extract.head()"
      ],
      "metadata": {
        "id": "MJg94PYiAh2c",
        "colab": {
          "base_uri": "https://localhost:8080/",
          "height": 354
        },
        "outputId": "067fae8e-0fd1-474a-c7e7-16d04414bae0"
      },
      "execution_count": 160,
      "outputs": [
        {
          "output_type": "execute_result",
          "data": {
            "text/plain": [
              "                            case-number clinic-name  year age-group\\t  \\\n",
              "0  3e7f19fe-7bad-41f2-8d3b-504d6eaf9b12    Klinik A  2018          16   \n",
              "1  89333820-613c-474c-b129-43ffe7619175    Klinik A  2018          17   \n",
              "2  e54b0e3e-f691-4552-a17f-e6b42a7efe5b    Klinik A  2018          13   \n",
              "3  52878d9b-4e1d-4f1c-9f5e-2a390f05ed39    Klinik A  2018          19   \n",
              "4  2b07e9ed-58ac-4ab5-a9ad-f1a687ea234e    Klinik A  2018          17   \n",
              "\n",
              "  icd main-diagnosis length of stay in days        inlier-type admission-date  \\\n",
              "0                I63                     50  OUTLIER_LONG_STAY     2018-05-29   \n",
              "1                I63                   13,2             INLIER     2018-04-28   \n",
              "2                I63                    9,3             INLIER     2018-10-02   \n",
              "3                I63                    9,8             INLIER     2018-08-27   \n",
              "4                I63                   12,5             INLIER     2018-10-20   \n",
              "\n",
              "  admission-time                                secondary-diagnoses  \\\n",
              "0          15:01  G81.0 | R47.1 | E11.91 | E11.90 | I11.90 | R39...   \n",
              "1          07:27  Z85.5 | R26.0 | I70.21 | H53.2 | I65.1 | G83.1...   \n",
              "2          08:47     G81.0 | H34.1 | I65.2 | Z88.0 | R47.1 | I11.91   \n",
              "3          18:02  G81.0 | U50.20 | I65.2 | I11.90 | F10.1 | F10....   \n",
              "4          22:08  G81.0 | I63.4 | I65.2 | I66.2 | U50.50 | E05.8...   \n",
              "\n",
              "                                          procedures  \n",
              "0  8-981.1#2018-05-29T15:01 | 1-207.0#2018-05-30T...  \n",
              "1  3-220#2018-04-28T07:27 | 8-981.1#2018-04-28T07...  \n",
              "2  8-981.1#2018-10-02T08:47 | 3-200#2018-10-02T08...  \n",
              "3  8-981.1#2018-08-27T18:02 | 3-200#2018-08-27T18...  \n",
              "4  3-200#2018-10-20T22:08 | 3-220#2018-10-22T08:3...  "
            ],
            "text/html": [
              "\n",
              "  <div id=\"df-86180003-d481-4eba-aaff-d0fc88d91fef\">\n",
              "    <div class=\"colab-df-container\">\n",
              "      <div>\n",
              "<style scoped>\n",
              "    .dataframe tbody tr th:only-of-type {\n",
              "        vertical-align: middle;\n",
              "    }\n",
              "\n",
              "    .dataframe tbody tr th {\n",
              "        vertical-align: top;\n",
              "    }\n",
              "\n",
              "    .dataframe thead th {\n",
              "        text-align: right;\n",
              "    }\n",
              "</style>\n",
              "<table border=\"1\" class=\"dataframe\">\n",
              "  <thead>\n",
              "    <tr style=\"text-align: right;\">\n",
              "      <th></th>\n",
              "      <th>case-number</th>\n",
              "      <th>clinic-name</th>\n",
              "      <th>year</th>\n",
              "      <th>age-group\\t</th>\n",
              "      <th>icd main-diagnosis</th>\n",
              "      <th>length of stay in days</th>\n",
              "      <th>inlier-type</th>\n",
              "      <th>admission-date</th>\n",
              "      <th>admission-time</th>\n",
              "      <th>secondary-diagnoses</th>\n",
              "      <th>procedures</th>\n",
              "    </tr>\n",
              "  </thead>\n",
              "  <tbody>\n",
              "    <tr>\n",
              "      <th>0</th>\n",
              "      <td>3e7f19fe-7bad-41f2-8d3b-504d6eaf9b12</td>\n",
              "      <td>Klinik A</td>\n",
              "      <td>2018</td>\n",
              "      <td>16</td>\n",
              "      <td>I63</td>\n",
              "      <td>50</td>\n",
              "      <td>OUTLIER_LONG_STAY</td>\n",
              "      <td>2018-05-29</td>\n",
              "      <td>15:01</td>\n",
              "      <td>G81.0 | R47.1 | E11.91 | E11.90 | I11.90 | R39...</td>\n",
              "      <td>8-981.1#2018-05-29T15:01 | 1-207.0#2018-05-30T...</td>\n",
              "    </tr>\n",
              "    <tr>\n",
              "      <th>1</th>\n",
              "      <td>89333820-613c-474c-b129-43ffe7619175</td>\n",
              "      <td>Klinik A</td>\n",
              "      <td>2018</td>\n",
              "      <td>17</td>\n",
              "      <td>I63</td>\n",
              "      <td>13,2</td>\n",
              "      <td>INLIER</td>\n",
              "      <td>2018-04-28</td>\n",
              "      <td>07:27</td>\n",
              "      <td>Z85.5 | R26.0 | I70.21 | H53.2 | I65.1 | G83.1...</td>\n",
              "      <td>3-220#2018-04-28T07:27 | 8-981.1#2018-04-28T07...</td>\n",
              "    </tr>\n",
              "    <tr>\n",
              "      <th>2</th>\n",
              "      <td>e54b0e3e-f691-4552-a17f-e6b42a7efe5b</td>\n",
              "      <td>Klinik A</td>\n",
              "      <td>2018</td>\n",
              "      <td>13</td>\n",
              "      <td>I63</td>\n",
              "      <td>9,3</td>\n",
              "      <td>INLIER</td>\n",
              "      <td>2018-10-02</td>\n",
              "      <td>08:47</td>\n",
              "      <td>G81.0 | H34.1 | I65.2 | Z88.0 | R47.1 | I11.91</td>\n",
              "      <td>8-981.1#2018-10-02T08:47 | 3-200#2018-10-02T08...</td>\n",
              "    </tr>\n",
              "    <tr>\n",
              "      <th>3</th>\n",
              "      <td>52878d9b-4e1d-4f1c-9f5e-2a390f05ed39</td>\n",
              "      <td>Klinik A</td>\n",
              "      <td>2018</td>\n",
              "      <td>19</td>\n",
              "      <td>I63</td>\n",
              "      <td>9,8</td>\n",
              "      <td>INLIER</td>\n",
              "      <td>2018-08-27</td>\n",
              "      <td>18:02</td>\n",
              "      <td>G81.0 | U50.20 | I65.2 | I11.90 | F10.1 | F10....</td>\n",
              "      <td>8-981.1#2018-08-27T18:02 | 3-200#2018-08-27T18...</td>\n",
              "    </tr>\n",
              "    <tr>\n",
              "      <th>4</th>\n",
              "      <td>2b07e9ed-58ac-4ab5-a9ad-f1a687ea234e</td>\n",
              "      <td>Klinik A</td>\n",
              "      <td>2018</td>\n",
              "      <td>17</td>\n",
              "      <td>I63</td>\n",
              "      <td>12,5</td>\n",
              "      <td>INLIER</td>\n",
              "      <td>2018-10-20</td>\n",
              "      <td>22:08</td>\n",
              "      <td>G81.0 | I63.4 | I65.2 | I66.2 | U50.50 | E05.8...</td>\n",
              "      <td>3-200#2018-10-20T22:08 | 3-220#2018-10-22T08:3...</td>\n",
              "    </tr>\n",
              "  </tbody>\n",
              "</table>\n",
              "</div>\n",
              "      <button class=\"colab-df-convert\" onclick=\"convertToInteractive('df-86180003-d481-4eba-aaff-d0fc88d91fef')\"\n",
              "              title=\"Convert this dataframe to an interactive table.\"\n",
              "              style=\"display:none;\">\n",
              "        \n",
              "  <svg xmlns=\"http://www.w3.org/2000/svg\" height=\"24px\"viewBox=\"0 0 24 24\"\n",
              "       width=\"24px\">\n",
              "    <path d=\"M0 0h24v24H0V0z\" fill=\"none\"/>\n",
              "    <path d=\"M18.56 5.44l.94 2.06.94-2.06 2.06-.94-2.06-.94-.94-2.06-.94 2.06-2.06.94zm-11 1L8.5 8.5l.94-2.06 2.06-.94-2.06-.94L8.5 2.5l-.94 2.06-2.06.94zm10 10l.94 2.06.94-2.06 2.06-.94-2.06-.94-.94-2.06-.94 2.06-2.06.94z\"/><path d=\"M17.41 7.96l-1.37-1.37c-.4-.4-.92-.59-1.43-.59-.52 0-1.04.2-1.43.59L10.3 9.45l-7.72 7.72c-.78.78-.78 2.05 0 2.83L4 21.41c.39.39.9.59 1.41.59.51 0 1.02-.2 1.41-.59l7.78-7.78 2.81-2.81c.8-.78.8-2.07 0-2.86zM5.41 20L4 18.59l7.72-7.72 1.47 1.35L5.41 20z\"/>\n",
              "  </svg>\n",
              "      </button>\n",
              "      \n",
              "  <style>\n",
              "    .colab-df-container {\n",
              "      display:flex;\n",
              "      flex-wrap:wrap;\n",
              "      gap: 12px;\n",
              "    }\n",
              "\n",
              "    .colab-df-convert {\n",
              "      background-color: #E8F0FE;\n",
              "      border: none;\n",
              "      border-radius: 50%;\n",
              "      cursor: pointer;\n",
              "      display: none;\n",
              "      fill: #1967D2;\n",
              "      height: 32px;\n",
              "      padding: 0 0 0 0;\n",
              "      width: 32px;\n",
              "    }\n",
              "\n",
              "    .colab-df-convert:hover {\n",
              "      background-color: #E2EBFA;\n",
              "      box-shadow: 0px 1px 2px rgba(60, 64, 67, 0.3), 0px 1px 3px 1px rgba(60, 64, 67, 0.15);\n",
              "      fill: #174EA6;\n",
              "    }\n",
              "\n",
              "    [theme=dark] .colab-df-convert {\n",
              "      background-color: #3B4455;\n",
              "      fill: #D2E3FC;\n",
              "    }\n",
              "\n",
              "    [theme=dark] .colab-df-convert:hover {\n",
              "      background-color: #434B5C;\n",
              "      box-shadow: 0px 1px 3px 1px rgba(0, 0, 0, 0.15);\n",
              "      filter: drop-shadow(0px 1px 2px rgba(0, 0, 0, 0.3));\n",
              "      fill: #FFFFFF;\n",
              "    }\n",
              "  </style>\n",
              "\n",
              "      <script>\n",
              "        const buttonEl =\n",
              "          document.querySelector('#df-86180003-d481-4eba-aaff-d0fc88d91fef button.colab-df-convert');\n",
              "        buttonEl.style.display =\n",
              "          google.colab.kernel.accessAllowed ? 'block' : 'none';\n",
              "\n",
              "        async function convertToInteractive(key) {\n",
              "          const element = document.querySelector('#df-86180003-d481-4eba-aaff-d0fc88d91fef');\n",
              "          const dataTable =\n",
              "            await google.colab.kernel.invokeFunction('convertToInteractive',\n",
              "                                                     [key], {});\n",
              "          if (!dataTable) return;\n",
              "\n",
              "          const docLinkHtml = 'Like what you see? Visit the ' +\n",
              "            '<a target=\"_blank\" href=https://colab.research.google.com/notebooks/data_table.ipynb>data table notebook</a>'\n",
              "            + ' to learn more about interactive tables.';\n",
              "          element.innerHTML = '';\n",
              "          dataTable['output_type'] = 'display_data';\n",
              "          await google.colab.output.renderOutput(dataTable, element);\n",
              "          const docLink = document.createElement('div');\n",
              "          docLink.innerHTML = docLinkHtml;\n",
              "          element.appendChild(docLink);\n",
              "        }\n",
              "      </script>\n",
              "    </div>\n",
              "  </div>\n",
              "  "
            ]
          },
          "metadata": {},
          "execution_count": 160
        }
      ]
    },
    {
      "cell_type": "code",
      "source": [
        "def f(txt):\n",
        "   x=[]\n",
        "   x =txt.split(\"| \")\n",
        "   #x[2]=y\n",
        "   return x"
      ],
      "metadata": {
        "id": "OTDqKy1zCzio"
      },
      "execution_count": 161,
      "outputs": []
    },
    {
      "cell_type": "code",
      "source": [
        "print(virtual_clinic_extract.shape)\n",
        "#print(len(result))"
      ],
      "metadata": {
        "id": "1yYAuUZDbL4Q",
        "colab": {
          "base_uri": "https://localhost:8080/"
        },
        "outputId": "def0d036-2848-4dee-d8a3-6433e6f6db48"
      },
      "execution_count": 162,
      "outputs": [
        {
          "output_type": "stream",
          "name": "stdout",
          "text": [
            "(7302, 11)\n"
          ]
        }
      ]
    },
    {
      "cell_type": "code",
      "source": [
        "result = [f(row) for row in virtual_clinic_extract['procedures']]"
      ],
      "metadata": {
        "id": "GmwLoETACw2N"
      },
      "execution_count": 163,
      "outputs": []
    },
    {
      "cell_type": "code",
      "source": [
        "x=[]\n",
        "relevant=[]\n",
        "line=[]\n",
        "for list in result:\n",
        "   for row in list:\n",
        "   #print(row)\n",
        "       line=row.split(\"#\")\n",
        "       x.append(line)\n",
        "       if '3-80' in row or '3-82' in row or '3-84' in row:\n",
        "             relevant.append(line)"
      ],
      "metadata": {
        "id": "R1VVEOFiISF7"
      },
      "execution_count": 164,
      "outputs": []
    },
    {
      "cell_type": "code",
      "source": [
        "print(len(relevant))\n",
        "print(len(x))"
      ],
      "metadata": {
        "id": "Iqbpb0mmLlgl",
        "colab": {
          "base_uri": "https://localhost:8080/"
        },
        "outputId": "fc11f3cf-4b2c-4538-d4c7-a6b5b302a0b1"
      },
      "execution_count": 165,
      "outputs": [
        {
          "output_type": "stream",
          "name": "stdout",
          "text": [
            "6784\n",
            "88904\n"
          ]
        }
      ]
    },
    {
      "cell_type": "code",
      "source": [
        "df = pd.DataFrame (relevant, columns = ['mri_type','date'])"
      ],
      "metadata": {
        "id": "Abfb3zPlBnBw"
      },
      "execution_count": 166,
      "outputs": []
    },
    {
      "cell_type": "code",
      "source": [
        "def remove_time(str) :\n",
        "  x=[]\n",
        "  x=str.split('T')\n",
        "  return x[0]\n"
      ],
      "metadata": {
        "id": "XFSX3wPGTMgQ"
      },
      "execution_count": 167,
      "outputs": []
    },
    {
      "cell_type": "code",
      "source": [
        "from datetime import datetime\n",
        "df['date'] = [remove_time(row) for row in df['date']]\n",
        "df['date'] = df['date'].astype('datetime64[ns]')\n",
        "df1=df.copy()"
      ],
      "metadata": {
        "id": "hjUo_T3PTAVT"
      },
      "execution_count": 168,
      "outputs": []
    },
    {
      "cell_type": "code",
      "source": [
        "#from datetime import datetime\n",
        "#df['date'] = [datetime.strptime(row, '%Y-%m-%d') for row in df['date']]"
      ],
      "metadata": {
        "id": "RF9EdaYNPxdw"
      },
      "execution_count": 169,
      "outputs": []
    },
    {
      "cell_type": "code",
      "source": [
        "lag_size = (df['date'].max().date() - df['date'].min().date()).days\n",
        "print('Max date from train set: %s' % df['date'].max().date())\n",
        "print('Min date from train set: %s' % df['date'].min().date())\n",
        "print('Forecast lag size', lag_size)"
      ],
      "metadata": {
        "id": "uuUGH-c_M2aI",
        "colab": {
          "base_uri": "https://localhost:8080/"
        },
        "outputId": "d84ba8fc-7231-4677-a26f-242437102de0"
      },
      "execution_count": 170,
      "outputs": [
        {
          "output_type": "stream",
          "name": "stdout",
          "text": [
            "Max date from train set: 2021-01-08\n",
            "Min date from train set: 2017-11-27\n",
            "Forecast lag size 1138\n"
          ]
        }
      ]
    },
    {
      "cell_type": "code",
      "source": [
        "daily_mri = df.groupby('date', as_index=False).count()\n",
        "daily_mri.columns = ['date', 'nb_cases']\n",
        "#daily_mri['date'] = daily_mri['date'].astype('datetime64[ns]')\n",
        "#daily_mri['date']  =  pd.to_datetime(daily_mri['date'], format='%Y-%m-%d')\n",
        "df=daily_mri\n",
        "daily_mri2=daily_mri.copy()"
      ],
      "metadata": {
        "id": "LNdS-tlyNCF8"
      },
      "execution_count": 171,
      "outputs": []
    },
    {
      "cell_type": "code",
      "source": [
        "daily_mri.to_csv('daily_mri.csv')"
      ],
      "metadata": {
        "id": "s7SVY1biKAPR"
      },
      "execution_count": 172,
      "outputs": []
    },
    {
      "cell_type": "code",
      "source": [
        "daily_mri.plot(x='date', y='nb_cases' ,figsize=(20,5), grid=True)"
      ],
      "metadata": {
        "id": "DY3lo_vBNSxU",
        "colab": {
          "base_uri": "https://localhost:8080/",
          "height": 359
        },
        "outputId": "74eed04d-77e5-479b-f39d-ff9e5eca3c5d"
      },
      "execution_count": 173,
      "outputs": [
        {
          "output_type": "execute_result",
          "data": {
            "text/plain": [
              "<matplotlib.axes._subplots.AxesSubplot at 0x7f8306a66bd0>"
            ]
          },
          "metadata": {},
          "execution_count": 173
        },
        {
          "output_type": "display_data",
          "data": {
            "text/plain": [
              "<Figure size 1440x360 with 1 Axes>"
            ],
            "image/png": "[encoded data removed]"
          },
          "metadata": {}
        }
      ]
    },
    {
      "cell_type": "code",
      "source": [
        "daily_mri=daily_mri2"
      ],
      "metadata": {
        "id": "ZAV3-y-1zxrO"
      },
      "execution_count": 174,
      "outputs": []
    },
    {
      "cell_type": "code",
      "source": [
        "daily_mri =daily_mri2.set_index('date')\n",
        "color_pal = [\"#F8766D\", \"#D39200\", \"#93AA00\", \"#00BA38\", \"#00C19F\", \"#00B9E3\", \"#619CFF\", \"#DB72FB\"]\n",
        "_ = daily_mri.plot(style='.', figsize=(15,5), color=color_pal[0], title='nb of MRI')"
      ],
      "metadata": {
        "id": "MDrlYs2XPoJB",
        "colab": {
          "base_uri": "https://localhost:8080/",
          "height": 363
        },
        "outputId": "893df968-4699-4dc7-8c8d-4c7e60a49f30"
      },
      "execution_count": 175,
      "outputs": [
        {
          "output_type": "display_data",
          "data": {
            "text/plain": [
              "<Figure size 1080x360 with 1 Axes>"
            ],
            "image/png": "[encoded data removed]"
          },
          "metadata": {}
        }
      ]
    },
    {
      "cell_type": "code",
      "source": [
        "split_date = '2020-02-01'\n",
        "daily_mri_train = daily_mri.loc[daily_mri.index <= split_date].copy()\n",
        "daily_mri_test = daily_mri.loc[daily_mri.index > split_date].copy()"
      ],
      "metadata": {
        "id": "rnh9Hfl4UXuc"
      },
      "execution_count": 176,
      "outputs": []
    },
    {
      "cell_type": "code",
      "source": [
        "daily_mri_train.shape"
      ],
      "metadata": {
        "id": "nuMLRiCpUsz-",
        "colab": {
          "base_uri": "https://localhost:8080/"
        },
        "outputId": "eb3bebb0-fe18-49d2-fad7-8e9e854590ce"
      },
      "execution_count": 177,
      "outputs": [
        {
          "output_type": "execute_result",
          "data": {
            "text/plain": [
              "(638, 1)"
            ]
          },
          "metadata": {},
          "execution_count": 177
        }
      ]
    },
    {
      "cell_type": "code",
      "source": [
        "daily_mri_test.shape"
      ],
      "metadata": {
        "id": "h1H4RxKeU4xx",
        "colab": {
          "base_uri": "https://localhost:8080/"
        },
        "outputId": "50c917d9-3b09-4a2a-aae9-b589ab1c6f26"
      },
      "execution_count": 178,
      "outputs": [
        {
          "output_type": "execute_result",
          "data": {
            "text/plain": [
              "(247, 1)"
            ]
          },
          "metadata": {},
          "execution_count": 178
        }
      ]
    },
    {
      "cell_type": "code",
      "source": [
        "_ = daily_mri_test \\\n",
        "    .rename(columns={'nb_cases': 'TEST SET'}) \\\n",
        "    .join(daily_mri_train.rename(columns={'nb_cases': 'TRAINING SET'}), how='outer') \\\n",
        "    .plot(figsize=(15,5), title='Number of MRI scans ', style='.')"
      ],
      "metadata": {
        "colab": {
          "base_uri": "https://localhost:8080/",
          "height": 363
        },
        "id": "GxJ2n0ezvG0q",
        "outputId": "e493f681-cd64-4138-d422-22208c13cae1"
      },
      "execution_count": 179,
      "outputs": [
        {
          "output_type": "display_data",
          "data": {
            "text/plain": [
              "<Figure size 1080x360 with 1 Axes>"
            ],
            "image/png": "[encoded data removed]"
          },
          "metadata": {}
        }
      ]
    },
    {
      "cell_type": "markdown",
      "source": [
        "Create Time Series Features"
      ],
      "metadata": {
        "id": "mP8Wov7nu7bi"
      }
    },
    {
      "cell_type": "code",
      "source": [
        "def create_features(df, label=None):\n",
        "    \"\"\"\n",
        "    Creates time series features from datetime index\n",
        "    \"\"\"\n",
        "    df['date'] = df.index\n",
        "    df['hour'] = df['date'].dt.hour\n",
        "    df['dayofweek'] = df['date'].dt.dayofweek\n",
        "    df['quarter'] = df['date'].dt.quarter\n",
        "    df['month'] = df['date'].dt.month\n",
        "    df['year'] = df['date'].dt.year\n",
        "    df['dayofyear'] = df['date'].dt.dayofyear\n",
        "    df['dayofmonth'] = df['date'].dt.day\n",
        "    df['weekofyear'] = df['date'].dt.weekofyear\n",
        "    \n",
        "    X = df[['hour','dayofweek','quarter','month','year',\n",
        "           'dayofyear','dayofmonth','weekofyear']]\n",
        "    if label:\n",
        "        y = df[label]\n",
        "        return X, y\n",
        "    return X"
      ],
      "metadata": {
        "id": "BG0yevaKU7gg"
      },
      "execution_count": 180,
      "outputs": []
    },
    {
      "cell_type": "code",
      "source": [
        "X_train, y_train = create_features(daily_mri_train, label='nb_cases')\n",
        "X_test, y_test = create_features(daily_mri_test, label='nb_cases')"
      ],
      "metadata": {
        "id": "5phnpEJSVDN_",
        "colab": {
          "base_uri": "https://localhost:8080/"
        },
        "outputId": "64a744b8-f9f2-4dbe-9491-f9daa79d211f"
      },
      "execution_count": 181,
      "outputs": [
        {
          "output_type": "stream",
          "name": "stderr",
          "text": [
            "/usr/local/lib/python3.7/dist-packages/ipykernel_launcher.py:13: FutureWarning: Series.dt.weekofyear and Series.dt.week have been deprecated.  Please use Series.dt.isocalendar().week instead.\n",
            "  del sys.path[0]\n"
          ]
        }
      ]
    },
    {
      "cell_type": "markdown",
      "source": [
        "# Create XGBoost Model"
      ],
      "metadata": {
        "id": "iB7ghw5aVLEH"
      }
    },
    {
      "cell_type": "code",
      "source": [
        "import numpy as np # linear algebra\n",
        "import pandas as pd # data processing, CSV file I/O (e.g. pd.read_csv)\n",
        "import seaborn as sns\n",
        "import matplotlib.pyplot as plt\n",
        "import xgboost as xgb\n",
        "from xgboost import plot_importance, plot_tree\n",
        "from sklearn.metrics import mean_squared_error, mean_absolute_error\n",
        "plt.style.use('fivethirtyeight')"
      ],
      "metadata": {
        "id": "G9XA7k2wVGNG"
      },
      "execution_count": 182,
      "outputs": []
    },
    {
      "cell_type": "code",
      "source": [
        "reg = xgb.XGBRegressor(n_estimators=1000)\n",
        "reg.fit(X_train, y_train,\n",
        "        eval_set=[(X_train, y_train), (X_test, y_test)],\n",
        "        early_stopping_rounds=50,\n",
        "       verbose=False) # Change verbose to True if you want to see it train"
      ],
      "metadata": {
        "id": "-QI-9FgIVSkW",
        "colab": {
          "base_uri": "https://localhost:8080/"
        },
        "outputId": "225b1a09-f64b-4fcc-f7a9-97d75ec6707e"
      },
      "execution_count": 183,
      "outputs": [
        {
          "output_type": "stream",
          "name": "stdout",
          "text": [
            "[12:57:12] WARNING: /workspace/src/objective/regression_obj.cu:152: reg:linear is now deprecated in favor of reg:squarederror.\n"
          ]
        },
        {
          "output_type": "execute_result",
          "data": {
            "text/plain": [
              "XGBRegressor(n_estimators=1000)"
            ]
          },
          "metadata": {},
          "execution_count": 183
        }
      ]
    },
    {
      "cell_type": "markdown",
      "source": [
        " **Feature Importances**\n",
        "\n",
        " which features the model is relying on most to make the prediction. (sums up how many times each feature is split on.)"
      ],
      "metadata": {
        "id": "e5ZNBMJY1Sks"
      }
    },
    {
      "cell_type": "code",
      "source": [
        "_ = plot_importance(reg, height=0.9)\n",
        "#day of year was most commonly used to split trees"
      ],
      "metadata": {
        "id": "lABsGZ9mVVDW",
        "colab": {
          "base_uri": "https://localhost:8080/",
          "height": 325
        },
        "outputId": "fa9ef05e-8aa1-44cc-fe6b-f8499fb641ae"
      },
      "execution_count": 184,
      "outputs": [
        {
          "output_type": "display_data",
          "data": {
            "text/plain": [
              "<Figure size 432x288 with 1 Axes>"
            ],
            "image/png": "[encoded data removed]"
          },
          "metadata": {}
        }
      ]
    },
    {
      "cell_type": "code",
      "source": [
        "daily_mri_test['nb_cases_predictions'] = reg.predict(X_test)\n",
        "daily_mri_all = pd.concat([daily_mri_test, daily_mri_train], sort=False)"
      ],
      "metadata": {
        "id": "gKKgai7tVXeF"
      },
      "execution_count": 185,
      "outputs": []
    },
    {
      "cell_type": "code",
      "source": [
        "#_ = daily_mri_all[['nb_cases','nb_cases_predictions']].plot(figsize=(15, 5))"
      ],
      "metadata": {
        "id": "UlH9YLJ3Vgf5"
      },
      "execution_count": 186,
      "outputs": []
    },
    {
      "cell_type": "code",
      "source": [
        "daily_mri_test['error'] = daily_mri_test['nb_cases'] - daily_mri_test['nb_cases_predictions']\n",
        "daily_mri_test['abs_error'] = daily_mri_test['error'].apply(np.abs)\n",
        "error_by_day = daily_mri_test.groupby(['year','month','dayofmonth']) \\\n",
        "    .mean()[['nb_cases','nb_cases_predictions','error','abs_error']]"
      ],
      "metadata": {
        "id": "CxSIgmMs48Jd"
      },
      "execution_count": 187,
      "outputs": []
    },
    {
      "cell_type": "code",
      "source": [
        "error_by_day.sort_values('abs_error', ascending=True).head(20)"
      ],
      "metadata": {
        "colab": {
          "base_uri": "https://localhost:8080/",
          "height": 708
        },
        "id": "agy8PCVd7R7g",
        "outputId": "2b6187f4-a624-465f-f8cf-7afae0e4a57f"
      },
      "execution_count": 188,
      "outputs": [
        {
          "output_type": "execute_result",
          "data": {
            "text/plain": [
              "                       nb_cases  nb_cases_predictions     error  abs_error\n",
              "year month dayofmonth                                                     \n",
              "2020 4     30               8.0              8.015116 -0.015116   0.015116\n",
              "           6               10.0              9.976534  0.023466   0.023466\n",
              "     2     7                8.0              7.964037  0.035963   0.035963\n",
              "           14               8.0              7.964037  0.035963   0.035963\n",
              "     3     25               8.0              7.962426  0.037574   0.037574\n",
              "     11    27               7.0              7.055363 -0.055363   0.055363\n",
              "     12    18               7.0              7.055363 -0.055363   0.055363\n",
              "     6     16               8.0              8.086113 -0.086113   0.086113\n",
              "     3     23              10.0              9.897930  0.102070   0.102070\n",
              "     6     18               8.0              7.882815  0.117185   0.117185\n",
              "     2     17              10.0              9.846851  0.153149   0.153149\n",
              "     11    15               2.0              2.154506 -0.154506   0.154506\n",
              "           11               8.0              7.835822  0.164178   0.164178\n",
              "     2     11               8.0              8.167336 -0.167336   0.167336\n",
              "           21               8.0              7.767778  0.232222   0.232222\n",
              "     11    17               7.0              7.258661 -0.258661   0.258661\n",
              "     10    7                7.0              7.304461 -0.304461   0.304461\n",
              "     7     15               7.0              7.304461 -0.304461   0.304461\n",
              "     9     16               7.0              7.304461 -0.304461   0.304461\n",
              "     8     19               7.0              7.304461 -0.304461   0.304461"
            ],
            "text/html": [
              "\n",
              "  <div id=\"df-0578350e-5615-40b7-bfb3-611d55a3c1e6\">\n",
              "    <div class=\"colab-df-container\">\n",
              "      <div>\n",
              "<style scoped>\n",
              "    .dataframe tbody tr th:only-of-type {\n",
              "        vertical-align: middle;\n",
              "    }\n",
              "\n",
              "    .dataframe tbody tr th {\n",
              "        vertical-align: top;\n",
              "    }\n",
              "\n",
              "    .dataframe thead th {\n",
              "        text-align: right;\n",
              "    }\n",
              "</style>\n",
              "<table border=\"1\" class=\"dataframe\">\n",
              "  <thead>\n",
              "    <tr style=\"text-align: right;\">\n",
              "      <th></th>\n",
              "      <th></th>\n",
              "      <th></th>\n",
              "      <th>nb_cases</th>\n",
              "      <th>nb_cases_predictions</th>\n",
              "      <th>error</th>\n",
              "      <th>abs_error</th>\n",
              "    </tr>\n",
              "    <tr>\n",
              "      <th>year</th>\n",
              "      <th>month</th>\n",
              "      <th>dayofmonth</th>\n",
              "      <th></th>\n",
              "      <th></th>\n",
              "      <th></th>\n",
              "      <th></th>\n",
              "    </tr>\n",
              "  </thead>\n",
              "  <tbody>\n",
              "    <tr>\n",
              "      <th rowspan=\"20\" valign=\"top\">2020</th>\n",
              "      <th rowspan=\"2\" valign=\"top\">4</th>\n",
              "      <th>30</th>\n",
              "      <td>8.0</td>\n",
              "      <td>8.015116</td>\n",
              "      <td>-0.015116</td>\n",
              "      <td>0.015116</td>\n",
              "    </tr>\n",
              "    <tr>\n",
              "      <th>6</th>\n",
              "      <td>10.0</td>\n",
              "      <td>9.976534</td>\n",
              "      <td>0.023466</td>\n",
              "      <td>0.023466</td>\n",
              "    </tr>\n",
              "    <tr>\n",
              "      <th rowspan=\"2\" valign=\"top\">2</th>\n",
              "      <th>7</th>\n",
              "      <td>8.0</td>\n",
              "      <td>7.964037</td>\n",
              "      <td>0.035963</td>\n",
              "      <td>0.035963</td>\n",
              "    </tr>\n",
              "    <tr>\n",
              "      <th>14</th>\n",
              "      <td>8.0</td>\n",
              "      <td>7.964037</td>\n",
              "      <td>0.035963</td>\n",
              "      <td>0.035963</td>\n",
              "    </tr>\n",
              "    <tr>\n",
              "      <th>3</th>\n",
              "      <th>25</th>\n",
              "      <td>8.0</td>\n",
              "      <td>7.962426</td>\n",
              "      <td>0.037574</td>\n",
              "      <td>0.037574</td>\n",
              "    </tr>\n",
              "    <tr>\n",
              "      <th>11</th>\n",
              "      <th>27</th>\n",
              "      <td>7.0</td>\n",
              "      <td>7.055363</td>\n",
              "      <td>-0.055363</td>\n",
              "      <td>0.055363</td>\n",
              "    </tr>\n",
              "    <tr>\n",
              "      <th>12</th>\n",
              "      <th>18</th>\n",
              "      <td>7.0</td>\n",
              "      <td>7.055363</td>\n",
              "      <td>-0.055363</td>\n",
              "      <td>0.055363</td>\n",
              "    </tr>\n",
              "    <tr>\n",
              "      <th>6</th>\n",
              "      <th>16</th>\n",
              "      <td>8.0</td>\n",
              "      <td>8.086113</td>\n",
              "      <td>-0.086113</td>\n",
              "      <td>0.086113</td>\n",
              "    </tr>\n",
              "    <tr>\n",
              "      <th>3</th>\n",
              "      <th>23</th>\n",
              "      <td>10.0</td>\n",
              "      <td>9.897930</td>\n",
              "      <td>0.102070</td>\n",
              "      <td>0.102070</td>\n",
              "    </tr>\n",
              "    <tr>\n",
              "      <th>6</th>\n",
              "      <th>18</th>\n",
              "      <td>8.0</td>\n",
              "      <td>7.882815</td>\n",
              "      <td>0.117185</td>\n",
              "      <td>0.117185</td>\n",
              "    </tr>\n",
              "    <tr>\n",
              "      <th>2</th>\n",
              "      <th>17</th>\n",
              "      <td>10.0</td>\n",
              "      <td>9.846851</td>\n",
              "      <td>0.153149</td>\n",
              "      <td>0.153149</td>\n",
              "    </tr>\n",
              "    <tr>\n",
              "      <th rowspan=\"2\" valign=\"top\">11</th>\n",
              "      <th>15</th>\n",
              "      <td>2.0</td>\n",
              "      <td>2.154506</td>\n",
              "      <td>-0.154506</td>\n",
              "      <td>0.154506</td>\n",
              "    </tr>\n",
              "    <tr>\n",
              "      <th>11</th>\n",
              "      <td>8.0</td>\n",
              "      <td>7.835822</td>\n",
              "      <td>0.164178</td>\n",
              "      <td>0.164178</td>\n",
              "    </tr>\n",
              "    <tr>\n",
              "      <th rowspan=\"2\" valign=\"top\">2</th>\n",
              "      <th>11</th>\n",
              "      <td>8.0</td>\n",
              "      <td>8.167336</td>\n",
              "      <td>-0.167336</td>\n",
              "      <td>0.167336</td>\n",
              "    </tr>\n",
              "    <tr>\n",
              "      <th>21</th>\n",
              "      <td>8.0</td>\n",
              "      <td>7.767778</td>\n",
              "      <td>0.232222</td>\n",
              "      <td>0.232222</td>\n",
              "    </tr>\n",
              "    <tr>\n",
              "      <th>11</th>\n",
              "      <th>17</th>\n",
              "      <td>7.0</td>\n",
              "      <td>7.258661</td>\n",
              "      <td>-0.258661</td>\n",
              "      <td>0.258661</td>\n",
              "    </tr>\n",
              "    <tr>\n",
              "      <th>10</th>\n",
              "      <th>7</th>\n",
              "      <td>7.0</td>\n",
              "      <td>7.304461</td>\n",
              "      <td>-0.304461</td>\n",
              "      <td>0.304461</td>\n",
              "    </tr>\n",
              "    <tr>\n",
              "      <th>7</th>\n",
              "      <th>15</th>\n",
              "      <td>7.0</td>\n",
              "      <td>7.304461</td>\n",
              "      <td>-0.304461</td>\n",
              "      <td>0.304461</td>\n",
              "    </tr>\n",
              "    <tr>\n",
              "      <th>9</th>\n",
              "      <th>16</th>\n",
              "      <td>7.0</td>\n",
              "      <td>7.304461</td>\n",
              "      <td>-0.304461</td>\n",
              "      <td>0.304461</td>\n",
              "    </tr>\n",
              "    <tr>\n",
              "      <th>8</th>\n",
              "      <th>19</th>\n",
              "      <td>7.0</td>\n",
              "      <td>7.304461</td>\n",
              "      <td>-0.304461</td>\n",
              "      <td>0.304461</td>\n",
              "    </tr>\n",
              "  </tbody>\n",
              "</table>\n",
              "</div>\n",
              "      <button class=\"colab-df-convert\" onclick=\"convertToInteractive('df-0578350e-5615-40b7-bfb3-611d55a3c1e6')\"\n",
              "              title=\"Convert this dataframe to an interactive table.\"\n",
              "              style=\"display:none;\">\n",
              "        \n",
              "  <svg xmlns=\"http://www.w3.org/2000/svg\" height=\"24px\"viewBox=\"0 0 24 24\"\n",
              "       width=\"24px\">\n",
              "    <path d=\"M0 0h24v24H0V0z\" fill=\"none\"/>\n",
              "    <path d=\"M18.56 5.44l.94 2.06.94-2.06 2.06-.94-2.06-.94-.94-2.06-.94 2.06-2.06.94zm-11 1L8.5 8.5l.94-2.06 2.06-.94-2.06-.94L8.5 2.5l-.94 2.06-2.06.94zm10 10l.94 2.06.94-2.06 2.06-.94-2.06-.94-.94-2.06-.94 2.06-2.06.94z\"/><path d=\"M17.41 7.96l-1.37-1.37c-.4-.4-.92-.59-1.43-.59-.52 0-1.04.2-1.43.59L10.3 9.45l-7.72 7.72c-.78.78-.78 2.05 0 2.83L4 21.41c.39.39.9.59 1.41.59.51 0 1.02-.2 1.41-.59l7.78-7.78 2.81-2.81c.8-.78.8-2.07 0-2.86zM5.41 20L4 18.59l7.72-7.72 1.47 1.35L5.41 20z\"/>\n",
              "  </svg>\n",
              "      </button>\n",
              "      \n",
              "  <style>\n",
              "    .colab-df-container {\n",
              "      display:flex;\n",
              "      flex-wrap:wrap;\n",
              "      gap: 12px;\n",
              "    }\n",
              "\n",
              "    .colab-df-convert {\n",
              "      background-color: #E8F0FE;\n",
              "      border: none;\n",
              "      border-radius: 50%;\n",
              "      cursor: pointer;\n",
              "      display: none;\n",
              "      fill: #1967D2;\n",
              "      height: 32px;\n",
              "      padding: 0 0 0 0;\n",
              "      width: 32px;\n",
              "    }\n",
              "\n",
              "    .colab-df-convert:hover {\n",
              "      background-color: #E2EBFA;\n",
              "      box-shadow: 0px 1px 2px rgba(60, 64, 67, 0.3), 0px 1px 3px 1px rgba(60, 64, 67, 0.15);\n",
              "      fill: #174EA6;\n",
              "    }\n",
              "\n",
              "    [theme=dark] .colab-df-convert {\n",
              "      background-color: #3B4455;\n",
              "      fill: #D2E3FC;\n",
              "    }\n",
              "\n",
              "    [theme=dark] .colab-df-convert:hover {\n",
              "      background-color: #434B5C;\n",
              "      box-shadow: 0px 1px 3px 1px rgba(0, 0, 0, 0.15);\n",
              "      filter: drop-shadow(0px 1px 2px rgba(0, 0, 0, 0.3));\n",
              "      fill: #FFFFFF;\n",
              "    }\n",
              "  </style>\n",
              "\n",
              "      <script>\n",
              "        const buttonEl =\n",
              "          document.querySelector('#df-0578350e-5615-40b7-bfb3-611d55a3c1e6 button.colab-df-convert');\n",
              "        buttonEl.style.display =\n",
              "          google.colab.kernel.accessAllowed ? 'block' : 'none';\n",
              "\n",
              "        async function convertToInteractive(key) {\n",
              "          const element = document.querySelector('#df-0578350e-5615-40b7-bfb3-611d55a3c1e6');\n",
              "          const dataTable =\n",
              "            await google.colab.kernel.invokeFunction('convertToInteractive',\n",
              "                                                     [key], {});\n",
              "          if (!dataTable) return;\n",
              "\n",
              "          const docLinkHtml = 'Like what you see? Visit the ' +\n",
              "            '<a target=\"_blank\" href=https://colab.research.google.com/notebooks/data_table.ipynb>data table notebook</a>'\n",
              "            + ' to learn more about interactive tables.';\n",
              "          element.innerHTML = '';\n",
              "          dataTable['output_type'] = 'display_data';\n",
              "          await google.colab.output.renderOutput(dataTable, element);\n",
              "          const docLink = document.createElement('div');\n",
              "          docLink.innerHTML = docLinkHtml;\n",
              "          element.appendChild(docLink);\n",
              "        }\n",
              "      </script>\n",
              "    </div>\n",
              "  </div>\n",
              "  "
            ]
          },
          "metadata": {},
          "execution_count": 188
        }
      ]
    },
    {
      "cell_type": "code",
      "source": [
        "# Plot the forecast with the actuals\n",
        "f, ax = plt.subplots(1)\n",
        "f.set_figheight(5)\n",
        "f.set_figwidth(15)\n",
        "_ = daily_mri_all[['nb_cases_predictions','nb_cases']].plot(ax=ax,\n",
        "                                              style=['-','.'])\n",
        "ax.set_xbound(lower='2020-06-01\t', upper='2020-07-01\t')\n",
        "ax.set_ylim(0, 50)\n",
        "plot = plt.suptitle('June Forecast vs Actuals')"
      ],
      "metadata": {
        "colab": {
          "base_uri": "https://localhost:8080/",
          "height": 390
        },
        "id": "ERYh_nXA2XU8",
        "outputId": "d3d6d69b-1115-4586-9c15-3e9806ce7bc8"
      },
      "execution_count": 189,
      "outputs": [
        {
          "output_type": "display_data",
          "data": {
            "text/plain": [
              "<Figure size 1080x360 with 1 Axes>"
            ],
            "image/png": "[encoded data removed]"
          },
          "metadata": {}
        }
      ]
    },
    {
      "cell_type": "code",
      "source": [
        "# Plot the forecast with the actuals\n",
        "f, ax = plt.subplots(1)\n",
        "f.set_figheight(5)\n",
        "f.set_figwidth(15)\n",
        "_ = daily_mri_all[['nb_cases_predictions','nb_cases']].plot(ax=ax,\n",
        "                                              style=['-','.'])\n",
        "ax.set_xbound(lower='2020-12-01\t', upper='2020-12-31\t')\n",
        "ax.set_ylim(0, 50)\n",
        "plot = plt.suptitle('June Forecast vs Actuals')"
      ],
      "metadata": {
        "colab": {
          "base_uri": "https://localhost:8080/",
          "height": 390
        },
        "id": "PqntvFJF4paX",
        "outputId": "490db622-c70f-4603-e2fd-4e167b8a3ded"
      },
      "execution_count": 190,
      "outputs": [
        {
          "output_type": "display_data",
          "data": {
            "text/plain": [
              "<Figure size 1080x360 with 1 Axes>"
            ],
            "image/png": "[encoded data removed]"
          },
          "metadata": {}
        }
      ]
    },
    {
      "cell_type": "code",
      "source": [
        "mean_squared_error(y_true=daily_mri_test['nb_cases'],\n",
        "                   y_pred=daily_mri_test['nb_cases_predictions'])"
      ],
      "metadata": {
        "id": "5sI1fjvIViU5",
        "colab": {
          "base_uri": "https://localhost:8080/"
        },
        "outputId": "2109524c-dc2c-4210-b126-27047faf52e5"
      },
      "execution_count": 191,
      "outputs": [
        {
          "output_type": "execute_result",
          "data": {
            "text/plain": [
              "16.54475040645276"
            ]
          },
          "metadata": {},
          "execution_count": 191
        }
      ]
    },
    {
      "cell_type": "markdown",
      "source": [
        "### **Worst predicition**"
      ],
      "metadata": {
        "id": "IQVc1RQw6brk"
      }
    },
    {
      "cell_type": "code",
      "source": [
        "error_by_day.sort_values('error', ascending=True).head(2)"
      ],
      "metadata": {
        "colab": {
          "base_uri": "https://localhost:8080/",
          "height": 143
        },
        "id": "aJ5mq3-K58Yw",
        "outputId": "a9b1314b-bc3f-4d69-b83b-37364fd2a5c8"
      },
      "execution_count": 192,
      "outputs": [
        {
          "output_type": "execute_result",
          "data": {
            "text/plain": [
              "                       nb_cases  nb_cases_predictions      error  abs_error\n",
              "year month dayofmonth                                                      \n",
              "2020 12    22               3.0             13.148309 -10.148309  10.148309\n",
              "           29               5.0             12.513908  -7.513908   7.513908"
            ],
            "text/html": [
              "\n",
              "  <div id=\"df-c6df3f57-06e8-4f6e-864a-fde73617cdeb\">\n",
              "    <div class=\"colab-df-container\">\n",
              "      <div>\n",
              "<style scoped>\n",
              "    .dataframe tbody tr th:only-of-type {\n",
              "        vertical-align: middle;\n",
              "    }\n",
              "\n",
              "    .dataframe tbody tr th {\n",
              "        vertical-align: top;\n",
              "    }\n",
              "\n",
              "    .dataframe thead th {\n",
              "        text-align: right;\n",
              "    }\n",
              "</style>\n",
              "<table border=\"1\" class=\"dataframe\">\n",
              "  <thead>\n",
              "    <tr style=\"text-align: right;\">\n",
              "      <th></th>\n",
              "      <th></th>\n",
              "      <th></th>\n",
              "      <th>nb_cases</th>\n",
              "      <th>nb_cases_predictions</th>\n",
              "      <th>error</th>\n",
              "      <th>abs_error</th>\n",
              "    </tr>\n",
              "    <tr>\n",
              "      <th>year</th>\n",
              "      <th>month</th>\n",
              "      <th>dayofmonth</th>\n",
              "      <th></th>\n",
              "      <th></th>\n",
              "      <th></th>\n",
              "      <th></th>\n",
              "    </tr>\n",
              "  </thead>\n",
              "  <tbody>\n",
              "    <tr>\n",
              "      <th rowspan=\"2\" valign=\"top\">2020</th>\n",
              "      <th rowspan=\"2\" valign=\"top\">12</th>\n",
              "      <th>22</th>\n",
              "      <td>3.0</td>\n",
              "      <td>13.148309</td>\n",
              "      <td>-10.148309</td>\n",
              "      <td>10.148309</td>\n",
              "    </tr>\n",
              "    <tr>\n",
              "      <th>29</th>\n",
              "      <td>5.0</td>\n",
              "      <td>12.513908</td>\n",
              "      <td>-7.513908</td>\n",
              "      <td>7.513908</td>\n",
              "    </tr>\n",
              "  </tbody>\n",
              "</table>\n",
              "</div>\n",
              "      <button class=\"colab-df-convert\" onclick=\"convertToInteractive('df-c6df3f57-06e8-4f6e-864a-fde73617cdeb')\"\n",
              "              title=\"Convert this dataframe to an interactive table.\"\n",
              "              style=\"display:none;\">\n",
              "        \n",
              "  <svg xmlns=\"http://www.w3.org/2000/svg\" height=\"24px\"viewBox=\"0 0 24 24\"\n",
              "       width=\"24px\">\n",
              "    <path d=\"M0 0h24v24H0V0z\" fill=\"none\"/>\n",
              "    <path d=\"M18.56 5.44l.94 2.06.94-2.06 2.06-.94-2.06-.94-.94-2.06-.94 2.06-2.06.94zm-11 1L8.5 8.5l.94-2.06 2.06-.94-2.06-.94L8.5 2.5l-.94 2.06-2.06.94zm10 10l.94 2.06.94-2.06 2.06-.94-2.06-.94-.94-2.06-.94 2.06-2.06.94z\"/><path d=\"M17.41 7.96l-1.37-1.37c-.4-.4-.92-.59-1.43-.59-.52 0-1.04.2-1.43.59L10.3 9.45l-7.72 7.72c-.78.78-.78 2.05 0 2.83L4 21.41c.39.39.9.59 1.41.59.51 0 1.02-.2 1.41-.59l7.78-7.78 2.81-2.81c.8-.78.8-2.07 0-2.86zM5.41 20L4 18.59l7.72-7.72 1.47 1.35L5.41 20z\"/>\n",
              "  </svg>\n",
              "      </button>\n",
              "      \n",
              "  <style>\n",
              "    .colab-df-container {\n",
              "      display:flex;\n",
              "      flex-wrap:wrap;\n",
              "      gap: 12px;\n",
              "    }\n",
              "\n",
              "    .colab-df-convert {\n",
              "      background-color: #E8F0FE;\n",
              "      border: none;\n",
              "      border-radius: 50%;\n",
              "      cursor: pointer;\n",
              "      display: none;\n",
              "      fill: #1967D2;\n",
              "      height: 32px;\n",
              "      padding: 0 0 0 0;\n",
              "      width: 32px;\n",
              "    }\n",
              "\n",
              "    .colab-df-convert:hover {\n",
              "      background-color: #E2EBFA;\n",
              "      box-shadow: 0px 1px 2px rgba(60, 64, 67, 0.3), 0px 1px 3px 1px rgba(60, 64, 67, 0.15);\n",
              "      fill: #174EA6;\n",
              "    }\n",
              "\n",
              "    [theme=dark] .colab-df-convert {\n",
              "      background-color: #3B4455;\n",
              "      fill: #D2E3FC;\n",
              "    }\n",
              "\n",
              "    [theme=dark] .colab-df-convert:hover {\n",
              "      background-color: #434B5C;\n",
              "      box-shadow: 0px 1px 3px 1px rgba(0, 0, 0, 0.15);\n",
              "      filter: drop-shadow(0px 1px 2px rgba(0, 0, 0, 0.3));\n",
              "      fill: #FFFFFF;\n",
              "    }\n",
              "  </style>\n",
              "\n",
              "      <script>\n",
              "        const buttonEl =\n",
              "          document.querySelector('#df-c6df3f57-06e8-4f6e-864a-fde73617cdeb button.colab-df-convert');\n",
              "        buttonEl.style.display =\n",
              "          google.colab.kernel.accessAllowed ? 'block' : 'none';\n",
              "\n",
              "        async function convertToInteractive(key) {\n",
              "          const element = document.querySelector('#df-c6df3f57-06e8-4f6e-864a-fde73617cdeb');\n",
              "          const dataTable =\n",
              "            await google.colab.kernel.invokeFunction('convertToInteractive',\n",
              "                                                     [key], {});\n",
              "          if (!dataTable) return;\n",
              "\n",
              "          const docLinkHtml = 'Like what you see? Visit the ' +\n",
              "            '<a target=\"_blank\" href=https://colab.research.google.com/notebooks/data_table.ipynb>data table notebook</a>'\n",
              "            + ' to learn more about interactive tables.';\n",
              "          element.innerHTML = '';\n",
              "          dataTable['output_type'] = 'display_data';\n",
              "          await google.colab.output.renderOutput(dataTable, element);\n",
              "          const docLink = document.createElement('div');\n",
              "          docLink.innerHTML = docLinkHtml;\n",
              "          element.appendChild(docLink);\n",
              "        }\n",
              "      </script>\n",
              "    </div>\n",
              "  </div>\n",
              "  "
            ]
          },
          "metadata": {},
          "execution_count": 192
        }
      ]
    },
    {
      "cell_type": "markdown",
      "source": [
        "## worst day - December 29, 2020 - Christmas holiday.\n",
        "Looks like our model may benefit from adding a holiday indicator."
      ],
      "metadata": {
        "id": "qm263Qnk6qWv"
      }
    },
    {
      "cell_type": "markdown",
      "source": [
        "# Facebook prophet\n"
      ],
      "metadata": {
        "id": "Pxt7IOh2aCYb"
      }
    },
    {
      "cell_type": "code",
      "source": [
        "# Format data for prophet model using ds and y\n",
        "df.rename(columns={'date':'ds',\n",
        "                     'nb_cases':'y'})"
      ],
      "metadata": {
        "id": "-ob_W_56aJjZ",
        "colab": {
          "base_uri": "https://localhost:8080/",
          "height": 423
        },
        "outputId": "07afc815-00a8-49ae-f0c2-7b0220dfb0ac"
      },
      "execution_count": 194,
      "outputs": [
        {
          "output_type": "execute_result",
          "data": {
            "text/plain": [
              "            ds   y\n",
              "0   2017-11-27   1\n",
              "1   2017-11-29   2\n",
              "2   2017-12-13   2\n",
              "3   2017-12-15   1\n",
              "4   2017-12-18   1\n",
              "..         ...  ..\n",
              "880 2020-12-22   3\n",
              "881 2020-12-23   8\n",
              "882 2020-12-28  15\n",
              "883 2020-12-29   5\n",
              "884 2021-01-08   2\n",
              "\n",
              "[885 rows x 2 columns]"
            ],
            "text/html": [
              "\n",
              "  <div id=\"df-28f8fcc1-f961-40f6-96b3-9110cd4fbd4a\">\n",
              "    <div class=\"colab-df-container\">\n",
              "      <div>\n",
              "<style scoped>\n",
              "    .dataframe tbody tr th:only-of-type {\n",
              "        vertical-align: middle;\n",
              "    }\n",
              "\n",
              "    .dataframe tbody tr th {\n",
              "        vertical-align: top;\n",
              "    }\n",
              "\n",
              "    .dataframe thead th {\n",
              "        text-align: right;\n",
              "    }\n",
              "</style>\n",
              "<table border=\"1\" class=\"dataframe\">\n",
              "  <thead>\n",
              "    <tr style=\"text-align: right;\">\n",
              "      <th></th>\n",
              "      <th>ds</th>\n",
              "      <th>y</th>\n",
              "    </tr>\n",
              "  </thead>\n",
              "  <tbody>\n",
              "    <tr>\n",
              "      <th>0</th>\n",
              "      <td>2017-11-27</td>\n",
              "      <td>1</td>\n",
              "    </tr>\n",
              "    <tr>\n",
              "      <th>1</th>\n",
              "      <td>2017-11-29</td>\n",
              "      <td>2</td>\n",
              "    </tr>\n",
              "    <tr>\n",
              "      <th>2</th>\n",
              "      <td>2017-12-13</td>\n",
              "      <td>2</td>\n",
              "    </tr>\n",
              "    <tr>\n",
              "      <th>3</th>\n",
              "      <td>2017-12-15</td>\n",
              "      <td>1</td>\n",
              "    </tr>\n",
              "    <tr>\n",
              "      <th>4</th>\n",
              "      <td>2017-12-18</td>\n",
              "      <td>1</td>\n",
              "    </tr>\n",
              "    <tr>\n",
              "      <th>...</th>\n",
              "      <td>...</td>\n",
              "      <td>...</td>\n",
              "    </tr>\n",
              "    <tr>\n",
              "      <th>880</th>\n",
              "      <td>2020-12-22</td>\n",
              "      <td>3</td>\n",
              "    </tr>\n",
              "    <tr>\n",
              "      <th>881</th>\n",
              "      <td>2020-12-23</td>\n",
              "      <td>8</td>\n",
              "    </tr>\n",
              "    <tr>\n",
              "      <th>882</th>\n",
              "      <td>2020-12-28</td>\n",
              "      <td>15</td>\n",
              "    </tr>\n",
              "    <tr>\n",
              "      <th>883</th>\n",
              "      <td>2020-12-29</td>\n",
              "      <td>5</td>\n",
              "    </tr>\n",
              "    <tr>\n",
              "      <th>884</th>\n",
              "      <td>2021-01-08</td>\n",
              "      <td>2</td>\n",
              "    </tr>\n",
              "  </tbody>\n",
              "</table>\n",
              "<p>885 rows × 2 columns</p>\n",
              "</div>\n",
              "      <button class=\"colab-df-convert\" onclick=\"convertToInteractive('df-28f8fcc1-f961-40f6-96b3-9110cd4fbd4a')\"\n",
              "              title=\"Convert this dataframe to an interactive table.\"\n",
              "              style=\"display:none;\">\n",
              "        \n",
              "  <svg xmlns=\"http://www.w3.org/2000/svg\" height=\"24px\"viewBox=\"0 0 24 24\"\n",
              "       width=\"24px\">\n",
              "    <path d=\"M0 0h24v24H0V0z\" fill=\"none\"/>\n",
              "    <path d=\"M18.56 5.44l.94 2.06.94-2.06 2.06-.94-2.06-.94-.94-2.06-.94 2.06-2.06.94zm-11 1L8.5 8.5l.94-2.06 2.06-.94-2.06-.94L8.5 2.5l-.94 2.06-2.06.94zm10 10l.94 2.06.94-2.06 2.06-.94-2.06-.94-.94-2.06-.94 2.06-2.06.94z\"/><path d=\"M17.41 7.96l-1.37-1.37c-.4-.4-.92-.59-1.43-.59-.52 0-1.04.2-1.43.59L10.3 9.45l-7.72 7.72c-.78.78-.78 2.05 0 2.83L4 21.41c.39.39.9.59 1.41.59.51 0 1.02-.2 1.41-.59l7.78-7.78 2.81-2.81c.8-.78.8-2.07 0-2.86zM5.41 20L4 18.59l7.72-7.72 1.47 1.35L5.41 20z\"/>\n",
              "  </svg>\n",
              "      </button>\n",
              "      \n",
              "  <style>\n",
              "    .colab-df-container {\n",
              "      display:flex;\n",
              "      flex-wrap:wrap;\n",
              "      gap: 12px;\n",
              "    }\n",
              "\n",
              "    .colab-df-convert {\n",
              "      background-color: #E8F0FE;\n",
              "      border: none;\n",
              "      border-radius: 50%;\n",
              "      cursor: pointer;\n",
              "      display: none;\n",
              "      fill: #1967D2;\n",
              "      height: 32px;\n",
              "      padding: 0 0 0 0;\n",
              "      width: 32px;\n",
              "    }\n",
              "\n",
              "    .colab-df-convert:hover {\n",
              "      background-color: #E2EBFA;\n",
              "      box-shadow: 0px 1px 2px rgba(60, 64, 67, 0.3), 0px 1px 3px 1px rgba(60, 64, 67, 0.15);\n",
              "      fill: #174EA6;\n",
              "    }\n",
              "\n",
              "    [theme=dark] .colab-df-convert {\n",
              "      background-color: #3B4455;\n",
              "      fill: #D2E3FC;\n",
              "    }\n",
              "\n",
              "    [theme=dark] .colab-df-convert:hover {\n",
              "      background-color: #434B5C;\n",
              "      box-shadow: 0px 1px 3px 1px rgba(0, 0, 0, 0.15);\n",
              "      filter: drop-shadow(0px 1px 2px rgba(0, 0, 0, 0.3));\n",
              "      fill: #FFFFFF;\n",
              "    }\n",
              "  </style>\n",
              "\n",
              "      <script>\n",
              "        const buttonEl =\n",
              "          document.querySelector('#df-28f8fcc1-f961-40f6-96b3-9110cd4fbd4a button.colab-df-convert');\n",
              "        buttonEl.style.display =\n",
              "          google.colab.kernel.accessAllowed ? 'block' : 'none';\n",
              "\n",
              "        async function convertToInteractive(key) {\n",
              "          const element = document.querySelector('#df-28f8fcc1-f961-40f6-96b3-9110cd4fbd4a');\n",
              "          const dataTable =\n",
              "            await google.colab.kernel.invokeFunction('convertToInteractive',\n",
              "                                                     [key], {});\n",
              "          if (!dataTable) return;\n",
              "\n",
              "          const docLinkHtml = 'Like what you see? Visit the ' +\n",
              "            '<a target=\"_blank\" href=https://colab.research.google.com/notebooks/data_table.ipynb>data table notebook</a>'\n",
              "            + ' to learn more about interactive tables.';\n",
              "          element.innerHTML = '';\n",
              "          dataTable['output_type'] = 'display_data';\n",
              "          await google.colab.output.renderOutput(dataTable, element);\n",
              "          const docLink = document.createElement('div');\n",
              "          docLink.innerHTML = docLinkHtml;\n",
              "          element.appendChild(docLink);\n",
              "        }\n",
              "      </script>\n",
              "    </div>\n",
              "  </div>\n",
              "  "
            ]
          },
          "metadata": {},
          "execution_count": 194
        }
      ]
    },
    {
      "cell_type": "code",
      "source": [
        "train =df[:650]\n",
        "test=df[650:]"
      ],
      "metadata": {
        "id": "tsR5a8aQcF_3"
      },
      "execution_count": 195,
      "outputs": []
    },
    {
      "cell_type": "code",
      "source": [
        "# Setup and train model and fit\n",
        "from fbprophet import Prophet\n",
        "model = Prophet()\n",
        "model.fit(df.rename(columns={'date':'ds',\n",
        "                     'nb_cases':'y'}))"
      ],
      "metadata": {
        "id": "wwnlQBrAWJm5",
        "colab": {
          "base_uri": "https://localhost:8080/"
        },
        "outputId": "602f383c-2628-497a-9fa4-b638b6b388ee"
      },
      "execution_count": 196,
      "outputs": [
        {
          "output_type": "stream",
          "name": "stderr",
          "text": [
            "INFO:fbprophet:Disabling daily seasonality. Run prophet with daily_seasonality=True to override this.\n"
          ]
        },
        {
          "output_type": "execute_result",
          "data": {
            "text/plain": [
              "<fbprophet.forecaster.Prophet at 0x7f830bc56790>"
            ]
          },
          "metadata": {},
          "execution_count": 196
        }
      ]
    },
    {
      "cell_type": "code",
      "source": [
        "# Predict on training set with model\n",
        "predictions = model.predict(test.rename(columns={'date':'ds',\n",
        "                     'nb_cases':'y'}))"
      ],
      "metadata": {
        "id": "SQanl0sIadY1"
      },
      "execution_count": 197,
      "outputs": []
    },
    {
      "cell_type": "code",
      "source": [
        "predictions"
      ],
      "metadata": {
        "id": "Lz0UtXNmc7HM",
        "colab": {
          "base_uri": "https://localhost:8080/",
          "height": 661
        },
        "outputId": "fa3b10ea-b3cc-4c77-cd1e-b73d82795890"
      },
      "execution_count": 198,
      "outputs": [
        {
          "output_type": "execute_result",
          "data": {
            "text/plain": [
              "            ds     trend  yhat_lower  yhat_upper  trend_lower  trend_upper  \\\n",
              "0   2020-02-18  6.984261    3.172116   12.985246     6.984261     6.984261   \n",
              "1   2020-02-19  6.985250    3.024786   13.009865     6.985250     6.985250   \n",
              "2   2020-02-20  6.986240    3.069440   12.559338     6.986240     6.986240   \n",
              "3   2020-02-21  6.987230    3.686778   13.140098     6.987230     6.987230   \n",
              "4   2020-02-24  6.990199    6.705362   16.815657     6.990199     6.990199   \n",
              "..         ...       ...         ...         ...          ...          ...   \n",
              "230 2020-12-22  7.289093    4.409090   14.516808     7.289093     7.289093   \n",
              "231 2020-12-23  7.290082    4.953602   14.591401     7.290082     7.290082   \n",
              "232 2020-12-28  7.295031    8.395311   18.011633     7.295031     7.295031   \n",
              "233 2020-12-29  7.296021    5.615297   14.982354     7.296021     7.296021   \n",
              "234 2021-01-08  7.305918    5.358403   15.088241     7.305918     7.305918   \n",
              "\n",
              "     additive_terms  additive_terms_lower  additive_terms_upper    weekly  \\\n",
              "0          1.067948              1.067948              1.067948  1.333277   \n",
              "1          0.906872              0.906872              0.906872  1.096187   \n",
              "2          0.909836              0.909836              0.909836  1.016346   \n",
              "3          1.109255              1.109255              1.109255  1.127781   \n",
              "4          4.549352              4.549352              4.549352  4.290991   \n",
              "..              ...                   ...                   ...       ...   \n",
              "230        2.131218              2.131218              2.131218  1.333277   \n",
              "231        2.086274              2.086274              2.086274  1.096187   \n",
              "232        6.028078              6.028078              6.028078  4.290991   \n",
              "233        3.169556              3.169556              3.169556  1.333277   \n",
              "234        3.082484              3.082484              3.082484  1.127781   \n",
              "\n",
              "     weekly_lower  weekly_upper    yearly  yearly_lower  yearly_upper  \\\n",
              "0        1.333277      1.333277 -0.265329     -0.265329     -0.265329   \n",
              "1        1.096187      1.096187 -0.189315     -0.189315     -0.189315   \n",
              "2        1.016346      1.016346 -0.106509     -0.106509     -0.106509   \n",
              "3        1.127781      1.127781 -0.018526     -0.018526     -0.018526   \n",
              "4        4.290991      4.290991  0.258361      0.258361      0.258361   \n",
              "..            ...           ...       ...           ...           ...   \n",
              "230      1.333277      1.333277  0.797941      0.797941      0.797941   \n",
              "231      1.096187      1.096187  0.990086      0.990086      0.990086   \n",
              "232      4.290991      4.290991  1.737087      1.737087      1.737087   \n",
              "233      1.333277      1.333277  1.836279      1.836279      1.836279   \n",
              "234      1.127781      1.127781  1.954702      1.954702      1.954702   \n",
              "\n",
              "     multiplicative_terms  multiplicative_terms_lower  \\\n",
              "0                     0.0                         0.0   \n",
              "1                     0.0                         0.0   \n",
              "2                     0.0                         0.0   \n",
              "3                     0.0                         0.0   \n",
              "4                     0.0                         0.0   \n",
              "..                    ...                         ...   \n",
              "230                   0.0                         0.0   \n",
              "231                   0.0                         0.0   \n",
              "232                   0.0                         0.0   \n",
              "233                   0.0                         0.0   \n",
              "234                   0.0                         0.0   \n",
              "\n",
              "     multiplicative_terms_upper       yhat  \n",
              "0                           0.0   8.052209  \n",
              "1                           0.0   7.892123  \n",
              "2                           0.0   7.896076  \n",
              "3                           0.0   8.096485  \n",
              "4                           0.0  11.539551  \n",
              "..                          ...        ...  \n",
              "230                         0.0   9.420310  \n",
              "231                         0.0   9.376356  \n",
              "232                         0.0  13.323109  \n",
              "233                         0.0  10.465577  \n",
              "234                         0.0  10.388402  \n",
              "\n",
              "[235 rows x 19 columns]"
            ],
            "text/html": [
              "\n",
              "  <div id=\"df-ce682221-eee0-45cc-85f3-8288a9ea7020\">\n",
              "    <div class=\"colab-df-container\">\n",
              "      <div>\n",
              "<style scoped>\n",
              "    .dataframe tbody tr th:only-of-type {\n",
              "        vertical-align: middle;\n",
              "    }\n",
              "\n",
              "    .dataframe tbody tr th {\n",
              "        vertical-align: top;\n",
              "    }\n",
              "\n",
              "    .dataframe thead th {\n",
              "        text-align: right;\n",
              "    }\n",
              "</style>\n",
              "<table border=\"1\" class=\"dataframe\">\n",
              "  <thead>\n",
              "    <tr style=\"text-align: right;\">\n",
              "      <th></th>\n",
              "      <th>ds</th>\n",
              "      <th>trend</th>\n",
              "      <th>yhat_lower</th>\n",
              "      <th>yhat_upper</th>\n",
              "      <th>trend_lower</th>\n",
              "      <th>trend_upper</th>\n",
              "      <th>additive_terms</th>\n",
              "      <th>additive_terms_lower</th>\n",
              "      <th>additive_terms_upper</th>\n",
              "      <th>weekly</th>\n",
              "      <th>weekly_lower</th>\n",
              "      <th>weekly_upper</th>\n",
              "      <th>yearly</th>\n",
              "      <th>yearly_lower</th>\n",
              "      <th>yearly_upper</th>\n",
              "      <th>multiplicative_terms</th>\n",
              "      <th>multiplicative_terms_lower</th>\n",
              "      <th>multiplicative_terms_upper</th>\n",
              "      <th>yhat</th>\n",
              "    </tr>\n",
              "  </thead>\n",
              "  <tbody>\n",
              "    <tr>\n",
              "      <th>0</th>\n",
              "      <td>2020-02-18</td>\n",
              "      <td>6.984261</td>\n",
              "      <td>3.172116</td>\n",
              "      <td>12.985246</td>\n",
              "      <td>6.984261</td>\n",
              "      <td>6.984261</td>\n",
              "      <td>1.067948</td>\n",
              "      <td>1.067948</td>\n",
              "      <td>1.067948</td>\n",
              "      <td>1.333277</td>\n",
              "      <td>1.333277</td>\n",
              "      <td>1.333277</td>\n",
              "      <td>-0.265329</td>\n",
              "      <td>-0.265329</td>\n",
              "      <td>-0.265329</td>\n",
              "      <td>0.0</td>\n",
              "      <td>0.0</td>\n",
              "      <td>0.0</td>\n",
              "      <td>8.052209</td>\n",
              "    </tr>\n",
              "    <tr>\n",
              "      <th>1</th>\n",
              "      <td>2020-02-19</td>\n",
              "      <td>6.985250</td>\n",
              "      <td>3.024786</td>\n",
              "      <td>13.009865</td>\n",
              "      <td>6.985250</td>\n",
              "      <td>6.985250</td>\n",
              "      <td>0.906872</td>\n",
              "      <td>0.906872</td>\n",
              "      <td>0.906872</td>\n",
              "      <td>1.096187</td>\n",
              "      <td>1.096187</td>\n",
              "      <td>1.096187</td>\n",
              "      <td>-0.189315</td>\n",
              "      <td>-0.189315</td>\n",
              "      <td>-0.189315</td>\n",
              "      <td>0.0</td>\n",
              "      <td>0.0</td>\n",
              "      <td>0.0</td>\n",
              "      <td>7.892123</td>\n",
              "    </tr>\n",
              "    <tr>\n",
              "      <th>2</th>\n",
              "      <td>2020-02-20</td>\n",
              "      <td>6.986240</td>\n",
              "      <td>3.069440</td>\n",
              "      <td>12.559338</td>\n",
              "      <td>6.986240</td>\n",
              "      <td>6.986240</td>\n",
              "      <td>0.909836</td>\n",
              "      <td>0.909836</td>\n",
              "      <td>0.909836</td>\n",
              "      <td>1.016346</td>\n",
              "      <td>1.016346</td>\n",
              "      <td>1.016346</td>\n",
              "      <td>-0.106509</td>\n",
              "      <td>-0.106509</td>\n",
              "      <td>-0.106509</td>\n",
              "      <td>0.0</td>\n",
              "      <td>0.0</td>\n",
              "      <td>0.0</td>\n",
              "      <td>7.896076</td>\n",
              "    </tr>\n",
              "    <tr>\n",
              "      <th>3</th>\n",
              "      <td>2020-02-21</td>\n",
              "      <td>6.987230</td>\n",
              "      <td>3.686778</td>\n",
              "      <td>13.140098</td>\n",
              "      <td>6.987230</td>\n",
              "      <td>6.987230</td>\n",
              "      <td>1.109255</td>\n",
              "      <td>1.109255</td>\n",
              "      <td>1.109255</td>\n",
              "      <td>1.127781</td>\n",
              "      <td>1.127781</td>\n",
              "      <td>1.127781</td>\n",
              "      <td>-0.018526</td>\n",
              "      <td>-0.018526</td>\n",
              "      <td>-0.018526</td>\n",
              "      <td>0.0</td>\n",
              "      <td>0.0</td>\n",
              "      <td>0.0</td>\n",
              "      <td>8.096485</td>\n",
              "    </tr>\n",
              "    <tr>\n",
              "      <th>4</th>\n",
              "      <td>2020-02-24</td>\n",
              "      <td>6.990199</td>\n",
              "      <td>6.705362</td>\n",
              "      <td>16.815657</td>\n",
              "      <td>6.990199</td>\n",
              "      <td>6.990199</td>\n",
              "      <td>4.549352</td>\n",
              "      <td>4.549352</td>\n",
              "      <td>4.549352</td>\n",
              "      <td>4.290991</td>\n",
              "      <td>4.290991</td>\n",
              "      <td>4.290991</td>\n",
              "      <td>0.258361</td>\n",
              "      <td>0.258361</td>\n",
              "      <td>0.258361</td>\n",
              "      <td>0.0</td>\n",
              "      <td>0.0</td>\n",
              "      <td>0.0</td>\n",
              "      <td>11.539551</td>\n",
              "    </tr>\n",
              "    <tr>\n",
              "      <th>...</th>\n",
              "      <td>...</td>\n",
              "      <td>...</td>\n",
              "      <td>...</td>\n",
              "      <td>...</td>\n",
              "      <td>...</td>\n",
              "      <td>...</td>\n",
              "      <td>...</td>\n",
              "      <td>...</td>\n",
              "      <td>...</td>\n",
              "      <td>...</td>\n",
              "      <td>...</td>\n",
              "      <td>...</td>\n",
              "      <td>...</td>\n",
              "      <td>...</td>\n",
              "      <td>...</td>\n",
              "      <td>...</td>\n",
              "      <td>...</td>\n",
              "      <td>...</td>\n",
              "      <td>...</td>\n",
              "    </tr>\n",
              "    <tr>\n",
              "      <th>230</th>\n",
              "      <td>2020-12-22</td>\n",
              "      <td>7.289093</td>\n",
              "      <td>4.409090</td>\n",
              "      <td>14.516808</td>\n",
              "      <td>7.289093</td>\n",
              "      <td>7.289093</td>\n",
              "      <td>2.131218</td>\n",
              "      <td>2.131218</td>\n",
              "      <td>2.131218</td>\n",
              "      <td>1.333277</td>\n",
              "      <td>1.333277</td>\n",
              "      <td>1.333277</td>\n",
              "      <td>0.797941</td>\n",
              "      <td>0.797941</td>\n",
              "      <td>0.797941</td>\n",
              "      <td>0.0</td>\n",
              "      <td>0.0</td>\n",
              "      <td>0.0</td>\n",
              "      <td>9.420310</td>\n",
              "    </tr>\n",
              "    <tr>\n",
              "      <th>231</th>\n",
              "      <td>2020-12-23</td>\n",
              "      <td>7.290082</td>\n",
              "      <td>4.953602</td>\n",
              "      <td>14.591401</td>\n",
              "      <td>7.290082</td>\n",
              "      <td>7.290082</td>\n",
              "      <td>2.086274</td>\n",
              "      <td>2.086274</td>\n",
              "      <td>2.086274</td>\n",
              "      <td>1.096187</td>\n",
              "      <td>1.096187</td>\n",
              "      <td>1.096187</td>\n",
              "      <td>0.990086</td>\n",
              "      <td>0.990086</td>\n",
              "      <td>0.990086</td>\n",
              "      <td>0.0</td>\n",
              "      <td>0.0</td>\n",
              "      <td>0.0</td>\n",
              "      <td>9.376356</td>\n",
              "    </tr>\n",
              "    <tr>\n",
              "      <th>232</th>\n",
              "      <td>2020-12-28</td>\n",
              "      <td>7.295031</td>\n",
              "      <td>8.395311</td>\n",
              "      <td>18.011633</td>\n",
              "      <td>7.295031</td>\n",
              "      <td>7.295031</td>\n",
              "      <td>6.028078</td>\n",
              "      <td>6.028078</td>\n",
              "      <td>6.028078</td>\n",
              "      <td>4.290991</td>\n",
              "      <td>4.290991</td>\n",
              "      <td>4.290991</td>\n",
              "      <td>1.737087</td>\n",
              "      <td>1.737087</td>\n",
              "      <td>1.737087</td>\n",
              "      <td>0.0</td>\n",
              "      <td>0.0</td>\n",
              "      <td>0.0</td>\n",
              "      <td>13.323109</td>\n",
              "    </tr>\n",
              "    <tr>\n",
              "      <th>233</th>\n",
              "      <td>2020-12-29</td>\n",
              "      <td>7.296021</td>\n",
              "      <td>5.615297</td>\n",
              "      <td>14.982354</td>\n",
              "      <td>7.296021</td>\n",
              "      <td>7.296021</td>\n",
              "      <td>3.169556</td>\n",
              "      <td>3.169556</td>\n",
              "      <td>3.169556</td>\n",
              "      <td>1.333277</td>\n",
              "      <td>1.333277</td>\n",
              "      <td>1.333277</td>\n",
              "      <td>1.836279</td>\n",
              "      <td>1.836279</td>\n",
              "      <td>1.836279</td>\n",
              "      <td>0.0</td>\n",
              "      <td>0.0</td>\n",
              "      <td>0.0</td>\n",
              "      <td>10.465577</td>\n",
              "    </tr>\n",
              "    <tr>\n",
              "      <th>234</th>\n",
              "      <td>2021-01-08</td>\n",
              "      <td>7.305918</td>\n",
              "      <td>5.358403</td>\n",
              "      <td>15.088241</td>\n",
              "      <td>7.305918</td>\n",
              "      <td>7.305918</td>\n",
              "      <td>3.082484</td>\n",
              "      <td>3.082484</td>\n",
              "      <td>3.082484</td>\n",
              "      <td>1.127781</td>\n",
              "      <td>1.127781</td>\n",
              "      <td>1.127781</td>\n",
              "      <td>1.954702</td>\n",
              "      <td>1.954702</td>\n",
              "      <td>1.954702</td>\n",
              "      <td>0.0</td>\n",
              "      <td>0.0</td>\n",
              "      <td>0.0</td>\n",
              "      <td>10.388402</td>\n",
              "    </tr>\n",
              "  </tbody>\n",
              "</table>\n",
              "<p>235 rows × 19 columns</p>\n",
              "</div>\n",
              "      <button class=\"colab-df-convert\" onclick=\"convertToInteractive('df-ce682221-eee0-45cc-85f3-8288a9ea7020')\"\n",
              "              title=\"Convert this dataframe to an interactive table.\"\n",
              "              style=\"display:none;\">\n",
              "        \n",
              "  <svg xmlns=\"http://www.w3.org/2000/svg\" height=\"24px\"viewBox=\"0 0 24 24\"\n",
              "       width=\"24px\">\n",
              "    <path d=\"M0 0h24v24H0V0z\" fill=\"none\"/>\n",
              "    <path d=\"M18.56 5.44l.94 2.06.94-2.06 2.06-.94-2.06-.94-.94-2.06-.94 2.06-2.06.94zm-11 1L8.5 8.5l.94-2.06 2.06-.94-2.06-.94L8.5 2.5l-.94 2.06-2.06.94zm10 10l.94 2.06.94-2.06 2.06-.94-2.06-.94-.94-2.06-.94 2.06-2.06.94z\"/><path d=\"M17.41 7.96l-1.37-1.37c-.4-.4-.92-.59-1.43-.59-.52 0-1.04.2-1.43.59L10.3 9.45l-7.72 7.72c-.78.78-.78 2.05 0 2.83L4 21.41c.39.39.9.59 1.41.59.51 0 1.02-.2 1.41-.59l7.78-7.78 2.81-2.81c.8-.78.8-2.07 0-2.86zM5.41 20L4 18.59l7.72-7.72 1.47 1.35L5.41 20z\"/>\n",
              "  </svg>\n",
              "      </button>\n",
              "      \n",
              "  <style>\n",
              "    .colab-df-container {\n",
              "      display:flex;\n",
              "      flex-wrap:wrap;\n",
              "      gap: 12px;\n",
              "    }\n",
              "\n",
              "    .colab-df-convert {\n",
              "      background-color: #E8F0FE;\n",
              "      border: none;\n",
              "      border-radius: 50%;\n",
              "      cursor: pointer;\n",
              "      display: none;\n",
              "      fill: #1967D2;\n",
              "      height: 32px;\n",
              "      padding: 0 0 0 0;\n",
              "      width: 32px;\n",
              "    }\n",
              "\n",
              "    .colab-df-convert:hover {\n",
              "      background-color: #E2EBFA;\n",
              "      box-shadow: 0px 1px 2px rgba(60, 64, 67, 0.3), 0px 1px 3px 1px rgba(60, 64, 67, 0.15);\n",
              "      fill: #174EA6;\n",
              "    }\n",
              "\n",
              "    [theme=dark] .colab-df-convert {\n",
              "      background-color: #3B4455;\n",
              "      fill: #D2E3FC;\n",
              "    }\n",
              "\n",
              "    [theme=dark] .colab-df-convert:hover {\n",
              "      background-color: #434B5C;\n",
              "      box-shadow: 0px 1px 3px 1px rgba(0, 0, 0, 0.15);\n",
              "      filter: drop-shadow(0px 1px 2px rgba(0, 0, 0, 0.3));\n",
              "      fill: #FFFFFF;\n",
              "    }\n",
              "  </style>\n",
              "\n",
              "      <script>\n",
              "        const buttonEl =\n",
              "          document.querySelector('#df-ce682221-eee0-45cc-85f3-8288a9ea7020 button.colab-df-convert');\n",
              "        buttonEl.style.display =\n",
              "          google.colab.kernel.accessAllowed ? 'block' : 'none';\n",
              "\n",
              "        async function convertToInteractive(key) {\n",
              "          const element = document.querySelector('#df-ce682221-eee0-45cc-85f3-8288a9ea7020');\n",
              "          const dataTable =\n",
              "            await google.colab.kernel.invokeFunction('convertToInteractive',\n",
              "                                                     [key], {});\n",
              "          if (!dataTable) return;\n",
              "\n",
              "          const docLinkHtml = 'Like what you see? Visit the ' +\n",
              "            '<a target=\"_blank\" href=https://colab.research.google.com/notebooks/data_table.ipynb>data table notebook</a>'\n",
              "            + ' to learn more about interactive tables.';\n",
              "          element.innerHTML = '';\n",
              "          dataTable['output_type'] = 'display_data';\n",
              "          await google.colab.output.renderOutput(dataTable, element);\n",
              "          const docLink = document.createElement('div');\n",
              "          docLink.innerHTML = docLinkHtml;\n",
              "          element.appendChild(docLink);\n",
              "        }\n",
              "      </script>\n",
              "    </div>\n",
              "  </div>\n",
              "  "
            ]
          },
          "metadata": {},
          "execution_count": 198
        }
      ]
    },
    {
      "cell_type": "code",
      "source": [
        "# Plot the forecast\n",
        "f, ax = plt.subplots(1)\n",
        "f.set_figheight(5)\n",
        "f.set_figwidth(15)\n",
        "fig = model.plot(predictions,\n",
        "                 ax=ax)\n",
        "plt.show()"
      ],
      "metadata": {
        "id": "0GTtNDCjeCz4",
        "colab": {
          "base_uri": "https://localhost:8080/",
          "height": 361
        },
        "outputId": "507ede37-e803-4ad2-a81f-f9a52df182ad"
      },
      "execution_count": 199,
      "outputs": [
        {
          "output_type": "display_data",
          "data": {
            "text/plain": [
              "<Figure size 1080x360 with 1 Axes>"
            ],
            "image/png": "[encoded data removed]"
          },
          "metadata": {}
        }
      ]
    },
    {
      "cell_type": "code",
      "source": [
        "# Plot the components of the model\n",
        "fig = model.plot_components(predictions)"
      ],
      "metadata": {
        "id": "ISi3ktMSebQr",
        "colab": {
          "base_uri": "https://localhost:8080/",
          "height": 649
        },
        "outputId": "b69ad685-881c-4808-b215-3cb1d835d2f6"
      },
      "execution_count": 200,
      "outputs": [
        {
          "output_type": "display_data",
          "data": {
            "text/plain": [
              "<Figure size 648x648 with 3 Axes>"
            ],
            "image/png": "[encoded data removed]"
          },
          "metadata": {}
        }
      ]
    },
    {
      "cell_type": "code",
      "source": [
        "mean_squared_error(y_true=test['nb_cases'],\n",
        "                   y_pred=predictions['yhat'])"
      ],
      "metadata": {
        "id": "fooqhCJKf2Cm",
        "colab": {
          "base_uri": "https://localhost:8080/"
        },
        "outputId": "0927a2b8-654c-4f3f-d901-f82ceaee74d8"
      },
      "execution_count": 201,
      "outputs": [
        {
          "output_type": "execute_result",
          "data": {
            "text/plain": [
              "14.710837655968577"
            ]
          },
          "metadata": {},
          "execution_count": 201
        }
      ]
    },
    {
      "cell_type": "code",
      "source": [
        "def mean_absolute_percentage_error(y_true, y_pred): \n",
        "    \"\"\"Calculates MAPE given y_true and y_pred\"\"\"\n",
        "    y_true, y_pred = np.array(y_true), np.array(y_pred)\n",
        "    return np.mean(np.abs((y_true - y_pred) / y_true)) * 100\n",
        "\n",
        "mean_absolute_percentage_error(y_true=test['nb_cases'],\n",
        "                   y_pred=predictions['yhat'])"
      ],
      "metadata": {
        "id": "kwrH9Y3RgxJ1",
        "colab": {
          "base_uri": "https://localhost:8080/"
        },
        "outputId": "48c82b51-ed05-45b3-951f-dc9f564bdb4f"
      },
      "execution_count": 202,
      "outputs": [
        {
          "output_type": "execute_result",
          "data": {
            "text/plain": [
              "59.52195182808353"
            ]
          },
          "metadata": {},
          "execution_count": 202
        }
      ]
    },
    {
      "cell_type": "markdown",
      "source": [
        "**Adding Holidays**"
      ],
      "metadata": {
        "id": "JmRXvhk4h6e_"
      }
    },
    {
      "cell_type": "code",
      "source": [
        "from pandas.tseries.holiday import USFederalHolidayCalendar as calendar\n",
        "\n",
        "cal = calendar()\n",
        "train_holidays = cal.holidays(start=daily_mri_train.index.min(),\n",
        "                              end=daily_mri_train.index.max())\n",
        "test_holidays = cal.holidays(start=daily_mri_test.index.min(),\n",
        "                             end=daily_mri_test.index.max())"
      ],
      "metadata": {
        "id": "KXYxezpHhoKN"
      },
      "execution_count": 203,
      "outputs": []
    },
    {
      "cell_type": "code",
      "source": [
        "daily_mri1 =daily_mri.copy()"
      ],
      "metadata": {
        "id": "WwauGDn6ihuK"
      },
      "execution_count": 204,
      "outputs": []
    },
    {
      "cell_type": "code",
      "source": [
        "# Create a dataframe with holiday, ds columns\n",
        "daily_mri1['date'] = daily_mri1.index\n",
        "daily_mri1['is_holiday'] = daily_mri1.date.isin([d for d in cal.holidays()])\n",
        "\n",
        "daily_mri1"
      ],
      "metadata": {
        "id": "WpBw_30xiCRk",
        "colab": {
          "base_uri": "https://localhost:8080/",
          "height": 455
        },
        "outputId": "5e20db45-5186-4d1c-b0c1-9a5c73e24a79"
      },
      "execution_count": 205,
      "outputs": [
        {
          "output_type": "execute_result",
          "data": {
            "text/plain": [
              "            nb_cases       date  is_holiday\n",
              "date                                       \n",
              "2017-11-27         1 2017-11-27       False\n",
              "2017-11-29         2 2017-11-29       False\n",
              "2017-12-13         2 2017-12-13       False\n",
              "2017-12-15         1 2017-12-15       False\n",
              "2017-12-18         1 2017-12-18       False\n",
              "...              ...        ...         ...\n",
              "2020-12-22         3 2020-12-22       False\n",
              "2020-12-23         8 2020-12-23       False\n",
              "2020-12-28        15 2020-12-28       False\n",
              "2020-12-29         5 2020-12-29       False\n",
              "2021-01-08         2 2021-01-08       False\n",
              "\n",
              "[885 rows x 3 columns]"
            ],
            "text/html": [
              "\n",
              "  <div id=\"df-591f0fc7-9a4d-4147-81c2-1cae55453b0e\">\n",
              "    <div class=\"colab-df-container\">\n",
              "      <div>\n",
              "<style scoped>\n",
              "    .dataframe tbody tr th:only-of-type {\n",
              "        vertical-align: middle;\n",
              "    }\n",
              "\n",
              "    .dataframe tbody tr th {\n",
              "        vertical-align: top;\n",
              "    }\n",
              "\n",
              "    .dataframe thead th {\n",
              "        text-align: right;\n",
              "    }\n",
              "</style>\n",
              "<table border=\"1\" class=\"dataframe\">\n",
              "  <thead>\n",
              "    <tr style=\"text-align: right;\">\n",
              "      <th></th>\n",
              "      <th>nb_cases</th>\n",
              "      <th>date</th>\n",
              "      <th>is_holiday</th>\n",
              "    </tr>\n",
              "    <tr>\n",
              "      <th>date</th>\n",
              "      <th></th>\n",
              "      <th></th>\n",
              "      <th></th>\n",
              "    </tr>\n",
              "  </thead>\n",
              "  <tbody>\n",
              "    <tr>\n",
              "      <th>2017-11-27</th>\n",
              "      <td>1</td>\n",
              "      <td>2017-11-27</td>\n",
              "      <td>False</td>\n",
              "    </tr>\n",
              "    <tr>\n",
              "      <th>2017-11-29</th>\n",
              "      <td>2</td>\n",
              "      <td>2017-11-29</td>\n",
              "      <td>False</td>\n",
              "    </tr>\n",
              "    <tr>\n",
              "      <th>2017-12-13</th>\n",
              "      <td>2</td>\n",
              "      <td>2017-12-13</td>\n",
              "      <td>False</td>\n",
              "    </tr>\n",
              "    <tr>\n",
              "      <th>2017-12-15</th>\n",
              "      <td>1</td>\n",
              "      <td>2017-12-15</td>\n",
              "      <td>False</td>\n",
              "    </tr>\n",
              "    <tr>\n",
              "      <th>2017-12-18</th>\n",
              "      <td>1</td>\n",
              "      <td>2017-12-18</td>\n",
              "      <td>False</td>\n",
              "    </tr>\n",
              "    <tr>\n",
              "      <th>...</th>\n",
              "      <td>...</td>\n",
              "      <td>...</td>\n",
              "      <td>...</td>\n",
              "    </tr>\n",
              "    <tr>\n",
              "      <th>2020-12-22</th>\n",
              "      <td>3</td>\n",
              "      <td>2020-12-22</td>\n",
              "      <td>False</td>\n",
              "    </tr>\n",
              "    <tr>\n",
              "      <th>2020-12-23</th>\n",
              "      <td>8</td>\n",
              "      <td>2020-12-23</td>\n",
              "      <td>False</td>\n",
              "    </tr>\n",
              "    <tr>\n",
              "      <th>2020-12-28</th>\n",
              "      <td>15</td>\n",
              "      <td>2020-12-28</td>\n",
              "      <td>False</td>\n",
              "    </tr>\n",
              "    <tr>\n",
              "      <th>2020-12-29</th>\n",
              "      <td>5</td>\n",
              "      <td>2020-12-29</td>\n",
              "      <td>False</td>\n",
              "    </tr>\n",
              "    <tr>\n",
              "      <th>2021-01-08</th>\n",
              "      <td>2</td>\n",
              "      <td>2021-01-08</td>\n",
              "      <td>False</td>\n",
              "    </tr>\n",
              "  </tbody>\n",
              "</table>\n",
              "<p>885 rows × 3 columns</p>\n",
              "</div>\n",
              "      <button class=\"colab-df-convert\" onclick=\"convertToInteractive('df-591f0fc7-9a4d-4147-81c2-1cae55453b0e')\"\n",
              "              title=\"Convert this dataframe to an interactive table.\"\n",
              "              style=\"display:none;\">\n",
              "        \n",
              "  <svg xmlns=\"http://www.w3.org/2000/svg\" height=\"24px\"viewBox=\"0 0 24 24\"\n",
              "       width=\"24px\">\n",
              "    <path d=\"M0 0h24v24H0V0z\" fill=\"none\"/>\n",
              "    <path d=\"M18.56 5.44l.94 2.06.94-2.06 2.06-.94-2.06-.94-.94-2.06-.94 2.06-2.06.94zm-11 1L8.5 8.5l.94-2.06 2.06-.94-2.06-.94L8.5 2.5l-.94 2.06-2.06.94zm10 10l.94 2.06.94-2.06 2.06-.94-2.06-.94-.94-2.06-.94 2.06-2.06.94z\"/><path d=\"M17.41 7.96l-1.37-1.37c-.4-.4-.92-.59-1.43-.59-.52 0-1.04.2-1.43.59L10.3 9.45l-7.72 7.72c-.78.78-.78 2.05 0 2.83L4 21.41c.39.39.9.59 1.41.59.51 0 1.02-.2 1.41-.59l7.78-7.78 2.81-2.81c.8-.78.8-2.07 0-2.86zM5.41 20L4 18.59l7.72-7.72 1.47 1.35L5.41 20z\"/>\n",
              "  </svg>\n",
              "      </button>\n",
              "      \n",
              "  <style>\n",
              "    .colab-df-container {\n",
              "      display:flex;\n",
              "      flex-wrap:wrap;\n",
              "      gap: 12px;\n",
              "    }\n",
              "\n",
              "    .colab-df-convert {\n",
              "      background-color: #E8F0FE;\n",
              "      border: none;\n",
              "      border-radius: 50%;\n",
              "      cursor: pointer;\n",
              "      display: none;\n",
              "      fill: #1967D2;\n",
              "      height: 32px;\n",
              "      padding: 0 0 0 0;\n",
              "      width: 32px;\n",
              "    }\n",
              "\n",
              "    .colab-df-convert:hover {\n",
              "      background-color: #E2EBFA;\n",
              "      box-shadow: 0px 1px 2px rgba(60, 64, 67, 0.3), 0px 1px 3px 1px rgba(60, 64, 67, 0.15);\n",
              "      fill: #174EA6;\n",
              "    }\n",
              "\n",
              "    [theme=dark] .colab-df-convert {\n",
              "      background-color: #3B4455;\n",
              "      fill: #D2E3FC;\n",
              "    }\n",
              "\n",
              "    [theme=dark] .colab-df-convert:hover {\n",
              "      background-color: #434B5C;\n",
              "      box-shadow: 0px 1px 3px 1px rgba(0, 0, 0, 0.15);\n",
              "      filter: drop-shadow(0px 1px 2px rgba(0, 0, 0, 0.3));\n",
              "      fill: #FFFFFF;\n",
              "    }\n",
              "  </style>\n",
              "\n",
              "      <script>\n",
              "        const buttonEl =\n",
              "          document.querySelector('#df-591f0fc7-9a4d-4147-81c2-1cae55453b0e button.colab-df-convert');\n",
              "        buttonEl.style.display =\n",
              "          google.colab.kernel.accessAllowed ? 'block' : 'none';\n",
              "\n",
              "        async function convertToInteractive(key) {\n",
              "          const element = document.querySelector('#df-591f0fc7-9a4d-4147-81c2-1cae55453b0e');\n",
              "          const dataTable =\n",
              "            await google.colab.kernel.invokeFunction('convertToInteractive',\n",
              "                                                     [key], {});\n",
              "          if (!dataTable) return;\n",
              "\n",
              "          const docLinkHtml = 'Like what you see? Visit the ' +\n",
              "            '<a target=\"_blank\" href=https://colab.research.google.com/notebooks/data_table.ipynb>data table notebook</a>'\n",
              "            + ' to learn more about interactive tables.';\n",
              "          element.innerHTML = '';\n",
              "          dataTable['output_type'] = 'display_data';\n",
              "          await google.colab.output.renderOutput(dataTable, element);\n",
              "          const docLink = document.createElement('div');\n",
              "          docLink.innerHTML = docLinkHtml;\n",
              "          element.appendChild(docLink);\n",
              "        }\n",
              "      </script>\n",
              "    </div>\n",
              "  </div>\n",
              "  "
            ]
          },
          "metadata": {},
          "execution_count": 205
        }
      ]
    },
    {
      "cell_type": "code",
      "source": [
        "holiday_df = daily_mri1.loc[daily_mri1['is_holiday']] \\\n",
        "   \n",
        "holiday_df['holiday'] = 'Holiday'\n",
        "holiday_df = holiday_df.drop(['nb_cases','date','is_holiday'], axis=1)\n",
        "holiday_df.head()"
      ],
      "metadata": {
        "id": "gUX0OHLpivtQ",
        "colab": {
          "base_uri": "https://localhost:8080/",
          "height": 342
        },
        "outputId": "07c0553b-3e50-4543-9dea-385c3b39d0fb"
      },
      "execution_count": 206,
      "outputs": [
        {
          "output_type": "stream",
          "name": "stderr",
          "text": [
            "/usr/local/lib/python3.7/dist-packages/ipykernel_launcher.py:2: SettingWithCopyWarning: \n",
            "A value is trying to be set on a copy of a slice from a DataFrame.\n",
            "Try using .loc[row_indexer,col_indexer] = value instead\n",
            "\n",
            "See the caveats in the documentation: https://pandas.pydata.org/pandas-docs/stable/user_guide/indexing.html#returning-a-view-versus-a-copy\n",
            "  \n"
          ]
        },
        {
          "output_type": "execute_result",
          "data": {
            "text/plain": [
              "            holiday\n",
              "date               \n",
              "2018-01-15  Holiday\n",
              "2018-02-19  Holiday\n",
              "2018-05-28  Holiday\n",
              "2018-07-04  Holiday\n",
              "2018-09-03  Holiday"
            ],
            "text/html": [
              "\n",
              "  <div id=\"df-84b1ef6c-17d4-4a59-9c66-0a7fadb41d6b\">\n",
              "    <div class=\"colab-df-container\">\n",
              "      <div>\n",
              "<style scoped>\n",
              "    .dataframe tbody tr th:only-of-type {\n",
              "        vertical-align: middle;\n",
              "    }\n",
              "\n",
              "    .dataframe tbody tr th {\n",
              "        vertical-align: top;\n",
              "    }\n",
              "\n",
              "    .dataframe thead th {\n",
              "        text-align: right;\n",
              "    }\n",
              "</style>\n",
              "<table border=\"1\" class=\"dataframe\">\n",
              "  <thead>\n",
              "    <tr style=\"text-align: right;\">\n",
              "      <th></th>\n",
              "      <th>holiday</th>\n",
              "    </tr>\n",
              "    <tr>\n",
              "      <th>date</th>\n",
              "      <th></th>\n",
              "    </tr>\n",
              "  </thead>\n",
              "  <tbody>\n",
              "    <tr>\n",
              "      <th>2018-01-15</th>\n",
              "      <td>Holiday</td>\n",
              "    </tr>\n",
              "    <tr>\n",
              "      <th>2018-02-19</th>\n",
              "      <td>Holiday</td>\n",
              "    </tr>\n",
              "    <tr>\n",
              "      <th>2018-05-28</th>\n",
              "      <td>Holiday</td>\n",
              "    </tr>\n",
              "    <tr>\n",
              "      <th>2018-07-04</th>\n",
              "      <td>Holiday</td>\n",
              "    </tr>\n",
              "    <tr>\n",
              "      <th>2018-09-03</th>\n",
              "      <td>Holiday</td>\n",
              "    </tr>\n",
              "  </tbody>\n",
              "</table>\n",
              "</div>\n",
              "      <button class=\"colab-df-convert\" onclick=\"convertToInteractive('df-84b1ef6c-17d4-4a59-9c66-0a7fadb41d6b')\"\n",
              "              title=\"Convert this dataframe to an interactive table.\"\n",
              "              style=\"display:none;\">\n",
              "        \n",
              "  <svg xmlns=\"http://www.w3.org/2000/svg\" height=\"24px\"viewBox=\"0 0 24 24\"\n",
              "       width=\"24px\">\n",
              "    <path d=\"M0 0h24v24H0V0z\" fill=\"none\"/>\n",
              "    <path d=\"M18.56 5.44l.94 2.06.94-2.06 2.06-.94-2.06-.94-.94-2.06-.94 2.06-2.06.94zm-11 1L8.5 8.5l.94-2.06 2.06-.94-2.06-.94L8.5 2.5l-.94 2.06-2.06.94zm10 10l.94 2.06.94-2.06 2.06-.94-2.06-.94-.94-2.06-.94 2.06-2.06.94z\"/><path d=\"M17.41 7.96l-1.37-1.37c-.4-.4-.92-.59-1.43-.59-.52 0-1.04.2-1.43.59L10.3 9.45l-7.72 7.72c-.78.78-.78 2.05 0 2.83L4 21.41c.39.39.9.59 1.41.59.51 0 1.02-.2 1.41-.59l7.78-7.78 2.81-2.81c.8-.78.8-2.07 0-2.86zM5.41 20L4 18.59l7.72-7.72 1.47 1.35L5.41 20z\"/>\n",
              "  </svg>\n",
              "      </button>\n",
              "      \n",
              "  <style>\n",
              "    .colab-df-container {\n",
              "      display:flex;\n",
              "      flex-wrap:wrap;\n",
              "      gap: 12px;\n",
              "    }\n",
              "\n",
              "    .colab-df-convert {\n",
              "      background-color: #E8F0FE;\n",
              "      border: none;\n",
              "      border-radius: 50%;\n",
              "      cursor: pointer;\n",
              "      display: none;\n",
              "      fill: #1967D2;\n",
              "      height: 32px;\n",
              "      padding: 0 0 0 0;\n",
              "      width: 32px;\n",
              "    }\n",
              "\n",
              "    .colab-df-convert:hover {\n",
              "      background-color: #E2EBFA;\n",
              "      box-shadow: 0px 1px 2px rgba(60, 64, 67, 0.3), 0px 1px 3px 1px rgba(60, 64, 67, 0.15);\n",
              "      fill: #174EA6;\n",
              "    }\n",
              "\n",
              "    [theme=dark] .colab-df-convert {\n",
              "      background-color: #3B4455;\n",
              "      fill: #D2E3FC;\n",
              "    }\n",
              "\n",
              "    [theme=dark] .colab-df-convert:hover {\n",
              "      background-color: #434B5C;\n",
              "      box-shadow: 0px 1px 3px 1px rgba(0, 0, 0, 0.15);\n",
              "      filter: drop-shadow(0px 1px 2px rgba(0, 0, 0, 0.3));\n",
              "      fill: #FFFFFF;\n",
              "    }\n",
              "  </style>\n",
              "\n",
              "      <script>\n",
              "        const buttonEl =\n",
              "          document.querySelector('#df-84b1ef6c-17d4-4a59-9c66-0a7fadb41d6b button.colab-df-convert');\n",
              "        buttonEl.style.display =\n",
              "          google.colab.kernel.accessAllowed ? 'block' : 'none';\n",
              "\n",
              "        async function convertToInteractive(key) {\n",
              "          const element = document.querySelector('#df-84b1ef6c-17d4-4a59-9c66-0a7fadb41d6b');\n",
              "          const dataTable =\n",
              "            await google.colab.kernel.invokeFunction('convertToInteractive',\n",
              "                                                     [key], {});\n",
              "          if (!dataTable) return;\n",
              "\n",
              "          const docLinkHtml = 'Like what you see? Visit the ' +\n",
              "            '<a target=\"_blank\" href=https://colab.research.google.com/notebooks/data_table.ipynb>data table notebook</a>'\n",
              "            + ' to learn more about interactive tables.';\n",
              "          element.innerHTML = '';\n",
              "          dataTable['output_type'] = 'display_data';\n",
              "          await google.colab.output.renderOutput(dataTable, element);\n",
              "          const docLink = document.createElement('div');\n",
              "          docLink.innerHTML = docLinkHtml;\n",
              "          element.appendChild(docLink);\n",
              "        }\n",
              "      </script>\n",
              "    </div>\n",
              "  </div>\n",
              "  "
            ]
          },
          "metadata": {},
          "execution_count": 206
        }
      ]
    },
    {
      "cell_type": "code",
      "source": [
        "holiday_df['ds'] = pd.to_datetime(holiday_df.index)\n",
        "holiday_df"
      ],
      "metadata": {
        "id": "eKEY64cCk7lx",
        "colab": {
          "base_uri": "https://localhost:8080/",
          "height": 833
        },
        "outputId": "8a3b17b6-af15-4f36-cc90-9f6f7ec9c0c6"
      },
      "execution_count": 207,
      "outputs": [
        {
          "output_type": "execute_result",
          "data": {
            "text/plain": [
              "            holiday         ds\n",
              "date                          \n",
              "2018-01-15  Holiday 2018-01-15\n",
              "2018-02-19  Holiday 2018-02-19\n",
              "2018-05-28  Holiday 2018-05-28\n",
              "2018-07-04  Holiday 2018-07-04\n",
              "2018-09-03  Holiday 2018-09-03\n",
              "2018-10-08  Holiday 2018-10-08\n",
              "2018-11-12  Holiday 2018-11-12\n",
              "2018-11-22  Holiday 2018-11-22\n",
              "2019-01-21  Holiday 2019-01-21\n",
              "2019-02-18  Holiday 2019-02-18\n",
              "2019-05-27  Holiday 2019-05-27\n",
              "2019-07-04  Holiday 2019-07-04\n",
              "2019-09-02  Holiday 2019-09-02\n",
              "2019-10-14  Holiday 2019-10-14\n",
              "2019-11-11  Holiday 2019-11-11\n",
              "2019-11-28  Holiday 2019-11-28\n",
              "2020-01-20  Holiday 2020-01-20\n",
              "2020-02-17  Holiday 2020-02-17\n",
              "2020-05-25  Holiday 2020-05-25\n",
              "2020-07-03  Holiday 2020-07-03\n",
              "2020-09-07  Holiday 2020-09-07\n",
              "2020-10-12  Holiday 2020-10-12\n",
              "2020-11-11  Holiday 2020-11-11\n",
              "2020-11-26  Holiday 2020-11-26"
            ],
            "text/html": [
              "\n",
              "  <div id=\"df-54be9208-353e-48b2-8bf5-529b6cceaa8c\">\n",
              "    <div class=\"colab-df-container\">\n",
              "      <div>\n",
              "<style scoped>\n",
              "    .dataframe tbody tr th:only-of-type {\n",
              "        vertical-align: middle;\n",
              "    }\n",
              "\n",
              "    .dataframe tbody tr th {\n",
              "        vertical-align: top;\n",
              "    }\n",
              "\n",
              "    .dataframe thead th {\n",
              "        text-align: right;\n",
              "    }\n",
              "</style>\n",
              "<table border=\"1\" class=\"dataframe\">\n",
              "  <thead>\n",
              "    <tr style=\"text-align: right;\">\n",
              "      <th></th>\n",
              "      <th>holiday</th>\n",
              "      <th>ds</th>\n",
              "    </tr>\n",
              "    <tr>\n",
              "      <th>date</th>\n",
              "      <th></th>\n",
              "      <th></th>\n",
              "    </tr>\n",
              "  </thead>\n",
              "  <tbody>\n",
              "    <tr>\n",
              "      <th>2018-01-15</th>\n",
              "      <td>Holiday</td>\n",
              "      <td>2018-01-15</td>\n",
              "    </tr>\n",
              "    <tr>\n",
              "      <th>2018-02-19</th>\n",
              "      <td>Holiday</td>\n",
              "      <td>2018-02-19</td>\n",
              "    </tr>\n",
              "    <tr>\n",
              "      <th>2018-05-28</th>\n",
              "      <td>Holiday</td>\n",
              "      <td>2018-05-28</td>\n",
              "    </tr>\n",
              "    <tr>\n",
              "      <th>2018-07-04</th>\n",
              "      <td>Holiday</td>\n",
              "      <td>2018-07-04</td>\n",
              "    </tr>\n",
              "    <tr>\n",
              "      <th>2018-09-03</th>\n",
              "      <td>Holiday</td>\n",
              "      <td>2018-09-03</td>\n",
              "    </tr>\n",
              "    <tr>\n",
              "      <th>2018-10-08</th>\n",
              "      <td>Holiday</td>\n",
              "      <td>2018-10-08</td>\n",
              "    </tr>\n",
              "    <tr>\n",
              "      <th>2018-11-12</th>\n",
              "      <td>Holiday</td>\n",
              "      <td>2018-11-12</td>\n",
              "    </tr>\n",
              "    <tr>\n",
              "      <th>2018-11-22</th>\n",
              "      <td>Holiday</td>\n",
              "      <td>2018-11-22</td>\n",
              "    </tr>\n",
              "    <tr>\n",
              "      <th>2019-01-21</th>\n",
              "      <td>Holiday</td>\n",
              "      <td>2019-01-21</td>\n",
              "    </tr>\n",
              "    <tr>\n",
              "      <th>2019-02-18</th>\n",
              "      <td>Holiday</td>\n",
              "      <td>2019-02-18</td>\n",
              "    </tr>\n",
              "    <tr>\n",
              "      <th>2019-05-27</th>\n",
              "      <td>Holiday</td>\n",
              "      <td>2019-05-27</td>\n",
              "    </tr>\n",
              "    <tr>\n",
              "      <th>2019-07-04</th>\n",
              "      <td>Holiday</td>\n",
              "      <td>2019-07-04</td>\n",
              "    </tr>\n",
              "    <tr>\n",
              "      <th>2019-09-02</th>\n",
              "      <td>Holiday</td>\n",
              "      <td>2019-09-02</td>\n",
              "    </tr>\n",
              "    <tr>\n",
              "      <th>2019-10-14</th>\n",
              "      <td>Holiday</td>\n",
              "      <td>2019-10-14</td>\n",
              "    </tr>\n",
              "    <tr>\n",
              "      <th>2019-11-11</th>\n",
              "      <td>Holiday</td>\n",
              "      <td>2019-11-11</td>\n",
              "    </tr>\n",
              "    <tr>\n",
              "      <th>2019-11-28</th>\n",
              "      <td>Holiday</td>\n",
              "      <td>2019-11-28</td>\n",
              "    </tr>\n",
              "    <tr>\n",
              "      <th>2020-01-20</th>\n",
              "      <td>Holiday</td>\n",
              "      <td>2020-01-20</td>\n",
              "    </tr>\n",
              "    <tr>\n",
              "      <th>2020-02-17</th>\n",
              "      <td>Holiday</td>\n",
              "      <td>2020-02-17</td>\n",
              "    </tr>\n",
              "    <tr>\n",
              "      <th>2020-05-25</th>\n",
              "      <td>Holiday</td>\n",
              "      <td>2020-05-25</td>\n",
              "    </tr>\n",
              "    <tr>\n",
              "      <th>2020-07-03</th>\n",
              "      <td>Holiday</td>\n",
              "      <td>2020-07-03</td>\n",
              "    </tr>\n",
              "    <tr>\n",
              "      <th>2020-09-07</th>\n",
              "      <td>Holiday</td>\n",
              "      <td>2020-09-07</td>\n",
              "    </tr>\n",
              "    <tr>\n",
              "      <th>2020-10-12</th>\n",
              "      <td>Holiday</td>\n",
              "      <td>2020-10-12</td>\n",
              "    </tr>\n",
              "    <tr>\n",
              "      <th>2020-11-11</th>\n",
              "      <td>Holiday</td>\n",
              "      <td>2020-11-11</td>\n",
              "    </tr>\n",
              "    <tr>\n",
              "      <th>2020-11-26</th>\n",
              "      <td>Holiday</td>\n",
              "      <td>2020-11-26</td>\n",
              "    </tr>\n",
              "  </tbody>\n",
              "</table>\n",
              "</div>\n",
              "      <button class=\"colab-df-convert\" onclick=\"convertToInteractive('df-54be9208-353e-48b2-8bf5-529b6cceaa8c')\"\n",
              "              title=\"Convert this dataframe to an interactive table.\"\n",
              "              style=\"display:none;\">\n",
              "        \n",
              "  <svg xmlns=\"http://www.w3.org/2000/svg\" height=\"24px\"viewBox=\"0 0 24 24\"\n",
              "       width=\"24px\">\n",
              "    <path d=\"M0 0h24v24H0V0z\" fill=\"none\"/>\n",
              "    <path d=\"M18.56 5.44l.94 2.06.94-2.06 2.06-.94-2.06-.94-.94-2.06-.94 2.06-2.06.94zm-11 1L8.5 8.5l.94-2.06 2.06-.94-2.06-.94L8.5 2.5l-.94 2.06-2.06.94zm10 10l.94 2.06.94-2.06 2.06-.94-2.06-.94-.94-2.06-.94 2.06-2.06.94z\"/><path d=\"M17.41 7.96l-1.37-1.37c-.4-.4-.92-.59-1.43-.59-.52 0-1.04.2-1.43.59L10.3 9.45l-7.72 7.72c-.78.78-.78 2.05 0 2.83L4 21.41c.39.39.9.59 1.41.59.51 0 1.02-.2 1.41-.59l7.78-7.78 2.81-2.81c.8-.78.8-2.07 0-2.86zM5.41 20L4 18.59l7.72-7.72 1.47 1.35L5.41 20z\"/>\n",
              "  </svg>\n",
              "      </button>\n",
              "      \n",
              "  <style>\n",
              "    .colab-df-container {\n",
              "      display:flex;\n",
              "      flex-wrap:wrap;\n",
              "      gap: 12px;\n",
              "    }\n",
              "\n",
              "    .colab-df-convert {\n",
              "      background-color: #E8F0FE;\n",
              "      border: none;\n",
              "      border-radius: 50%;\n",
              "      cursor: pointer;\n",
              "      display: none;\n",
              "      fill: #1967D2;\n",
              "      height: 32px;\n",
              "      padding: 0 0 0 0;\n",
              "      width: 32px;\n",
              "    }\n",
              "\n",
              "    .colab-df-convert:hover {\n",
              "      background-color: #E2EBFA;\n",
              "      box-shadow: 0px 1px 2px rgba(60, 64, 67, 0.3), 0px 1px 3px 1px rgba(60, 64, 67, 0.15);\n",
              "      fill: #174EA6;\n",
              "    }\n",
              "\n",
              "    [theme=dark] .colab-df-convert {\n",
              "      background-color: #3B4455;\n",
              "      fill: #D2E3FC;\n",
              "    }\n",
              "\n",
              "    [theme=dark] .colab-df-convert:hover {\n",
              "      background-color: #434B5C;\n",
              "      box-shadow: 0px 1px 3px 1px rgba(0, 0, 0, 0.15);\n",
              "      filter: drop-shadow(0px 1px 2px rgba(0, 0, 0, 0.3));\n",
              "      fill: #FFFFFF;\n",
              "    }\n",
              "  </style>\n",
              "\n",
              "      <script>\n",
              "        const buttonEl =\n",
              "          document.querySelector('#df-54be9208-353e-48b2-8bf5-529b6cceaa8c button.colab-df-convert');\n",
              "        buttonEl.style.display =\n",
              "          google.colab.kernel.accessAllowed ? 'block' : 'none';\n",
              "\n",
              "        async function convertToInteractive(key) {\n",
              "          const element = document.querySelector('#df-54be9208-353e-48b2-8bf5-529b6cceaa8c');\n",
              "          const dataTable =\n",
              "            await google.colab.kernel.invokeFunction('convertToInteractive',\n",
              "                                                     [key], {});\n",
              "          if (!dataTable) return;\n",
              "\n",
              "          const docLinkHtml = 'Like what you see? Visit the ' +\n",
              "            '<a target=\"_blank\" href=https://colab.research.google.com/notebooks/data_table.ipynb>data table notebook</a>'\n",
              "            + ' to learn more about interactive tables.';\n",
              "          element.innerHTML = '';\n",
              "          dataTable['output_type'] = 'display_data';\n",
              "          await google.colab.output.renderOutput(dataTable, element);\n",
              "          const docLink = document.createElement('div');\n",
              "          docLink.innerHTML = docLinkHtml;\n",
              "          element.appendChild(docLink);\n",
              "        }\n",
              "      </script>\n",
              "    </div>\n",
              "  </div>\n",
              "  "
            ]
          },
          "metadata": {},
          "execution_count": 207
        }
      ]
    },
    {
      "cell_type": "code",
      "source": [
        "holiday_df=holiday_df.reset_index()\n",
        "holiday_df = holiday_df.drop(['date'], axis=1)"
      ],
      "metadata": {
        "id": "Qg05xXwZpS-b"
      },
      "execution_count": 208,
      "outputs": []
    },
    {
      "cell_type": "code",
      "source": [
        "# Setup and train model with holidays\n",
        "model_with_holidays = Prophet(holidays=holiday_df)\n",
        "\n",
        "model_with_holidays.fit(df.rename(columns={'date':'ds',\n",
        "                     'nb_cases':'y'}))"
      ],
      "metadata": {
        "id": "chiWNBUupUfo",
        "colab": {
          "base_uri": "https://localhost:8080/"
        },
        "outputId": "c8568a97-151d-41b3-d023-96eca6025080"
      },
      "execution_count": 209,
      "outputs": [
        {
          "output_type": "stream",
          "name": "stderr",
          "text": [
            "INFO:fbprophet:Disabling daily seasonality. Run prophet with daily_seasonality=True to override this.\n"
          ]
        },
        {
          "output_type": "execute_result",
          "data": {
            "text/plain": [
              "<fbprophet.forecaster.Prophet at 0x7f8328e799d0>"
            ]
          },
          "metadata": {},
          "execution_count": 209
        }
      ]
    },
    {
      "cell_type": "code",
      "source": [
        "# Predict on training set with model\n",
        "predictions_with_hols = \\\n",
        "    model_with_holidays.predict(test.rename(columns={'date':'ds',\n",
        "                     'nb_cases':'y'}))"
      ],
      "metadata": {
        "id": "agCuazb7rAAr"
      },
      "execution_count": 210,
      "outputs": []
    },
    {
      "cell_type": "code",
      "source": [
        "fig2 = model_with_holidays.plot_components(predictions_with_hols)"
      ],
      "metadata": {
        "id": "qO_BPoLQrEIr",
        "colab": {
          "base_uri": "https://localhost:8080/",
          "height": 865
        },
        "outputId": "a8364f86-5abb-4cee-c587-3cf994e76425"
      },
      "execution_count": 211,
      "outputs": [
        {
          "output_type": "display_data",
          "data": {
            "text/plain": [
              "<Figure size 648x864 with 4 Axes>"
            ],
            "image/png": "[encoded data removed]"
          },
          "metadata": {}
        }
      ]
    },
    {
      "cell_type": "code",
      "source": [
        "mean_squared_error(y_true=test['nb_cases'],\n",
        "                   y_pred=predictions_with_hols['yhat'])"
      ],
      "metadata": {
        "id": "WdyIkLLcrP1k",
        "colab": {
          "base_uri": "https://localhost:8080/"
        },
        "outputId": "d0c3330c-15f8-4edd-db9a-3a4f9f8e3805"
      },
      "execution_count": 212,
      "outputs": [
        {
          "output_type": "execute_result",
          "data": {
            "text/plain": [
              "14.66508564930605"
            ]
          },
          "metadata": {},
          "execution_count": 212
        }
      ]
    },
    {
      "cell_type": "markdown",
      "source": [
        "# **MRI per hospital**"
      ],
      "metadata": {
        "id": "RPQVEn1AXeQc"
      }
    },
    {
      "cell_type": "code",
      "source": [
        "patients_per_hospitals = virtual_clinic_extract.groupby('clinic-name', as_index=False)['case-number'].count()\n",
        "patients_per_hospitals .columns = ['clinic-name', 'total MRI']\n",
        "\n",
        "patients_per_hospitals\n"
      ],
      "metadata": {
        "colab": {
          "base_uri": "https://localhost:8080/",
          "height": 0
        },
        "id": "qT1Vs3L6ChYL",
        "outputId": "a54b591c-0c40-4064-e22a-2e29457d7a3d"
      },
      "execution_count": 213,
      "outputs": [
        {
          "output_type": "execute_result",
          "data": {
            "text/plain": [
              "  clinic-name  total MRI\n",
              "0    Klinik A        664\n",
              "1    Klinik B       1048\n",
              "2    Klinik C        431\n",
              "3    Klinik D        880\n",
              "4    Klinik E        929\n",
              "5    Klinik F        492\n",
              "6    Klinik G       2653\n",
              "7    Klinik H        205"
            ],
            "text/html": [
              "\n",
              "  <div id=\"df-e8e75a8a-57c1-43cf-8909-b1f39c443236\">\n",
              "    <div class=\"colab-df-container\">\n",
              "      <div>\n",
              "<style scoped>\n",
              "    .dataframe tbody tr th:only-of-type {\n",
              "        vertical-align: middle;\n",
              "    }\n",
              "\n",
              "    .dataframe tbody tr th {\n",
              "        vertical-align: top;\n",
              "    }\n",
              "\n",
              "    .dataframe thead th {\n",
              "        text-align: right;\n",
              "    }\n",
              "</style>\n",
              "<table border=\"1\" class=\"dataframe\">\n",
              "  <thead>\n",
              "    <tr style=\"text-align: right;\">\n",
              "      <th></th>\n",
              "      <th>clinic-name</th>\n",
              "      <th>total MRI</th>\n",
              "    </tr>\n",
              "  </thead>\n",
              "  <tbody>\n",
              "    <tr>\n",
              "      <th>0</th>\n",
              "      <td>Klinik A</td>\n",
              "      <td>664</td>\n",
              "    </tr>\n",
              "    <tr>\n",
              "      <th>1</th>\n",
              "      <td>Klinik B</td>\n",
              "      <td>1048</td>\n",
              "    </tr>\n",
              "    <tr>\n",
              "      <th>2</th>\n",
              "      <td>Klinik C</td>\n",
              "      <td>431</td>\n",
              "    </tr>\n",
              "    <tr>\n",
              "      <th>3</th>\n",
              "      <td>Klinik D</td>\n",
              "      <td>880</td>\n",
              "    </tr>\n",
              "    <tr>\n",
              "      <th>4</th>\n",
              "      <td>Klinik E</td>\n",
              "      <td>929</td>\n",
              "    </tr>\n",
              "    <tr>\n",
              "      <th>5</th>\n",
              "      <td>Klinik F</td>\n",
              "      <td>492</td>\n",
              "    </tr>\n",
              "    <tr>\n",
              "      <th>6</th>\n",
              "      <td>Klinik G</td>\n",
              "      <td>2653</td>\n",
              "    </tr>\n",
              "    <tr>\n",
              "      <th>7</th>\n",
              "      <td>Klinik H</td>\n",
              "      <td>205</td>\n",
              "    </tr>\n",
              "  </tbody>\n",
              "</table>\n",
              "</div>\n",
              "      <button class=\"colab-df-convert\" onclick=\"convertToInteractive('df-e8e75a8a-57c1-43cf-8909-b1f39c443236')\"\n",
              "              title=\"Convert this dataframe to an interactive table.\"\n",
              "              style=\"display:none;\">\n",
              "        \n",
              "  <svg xmlns=\"http://www.w3.org/2000/svg\" height=\"24px\"viewBox=\"0 0 24 24\"\n",
              "       width=\"24px\">\n",
              "    <path d=\"M0 0h24v24H0V0z\" fill=\"none\"/>\n",
              "    <path d=\"M18.56 5.44l.94 2.06.94-2.06 2.06-.94-2.06-.94-.94-2.06-.94 2.06-2.06.94zm-11 1L8.5 8.5l.94-2.06 2.06-.94-2.06-.94L8.5 2.5l-.94 2.06-2.06.94zm10 10l.94 2.06.94-2.06 2.06-.94-2.06-.94-.94-2.06-.94 2.06-2.06.94z\"/><path d=\"M17.41 7.96l-1.37-1.37c-.4-.4-.92-.59-1.43-.59-.52 0-1.04.2-1.43.59L10.3 9.45l-7.72 7.72c-.78.78-.78 2.05 0 2.83L4 21.41c.39.39.9.59 1.41.59.51 0 1.02-.2 1.41-.59l7.78-7.78 2.81-2.81c.8-.78.8-2.07 0-2.86zM5.41 20L4 18.59l7.72-7.72 1.47 1.35L5.41 20z\"/>\n",
              "  </svg>\n",
              "      </button>\n",
              "      \n",
              "  <style>\n",
              "    .colab-df-container {\n",
              "      display:flex;\n",
              "      flex-wrap:wrap;\n",
              "      gap: 12px;\n",
              "    }\n",
              "\n",
              "    .colab-df-convert {\n",
              "      background-color: #E8F0FE;\n",
              "      border: none;\n",
              "      border-radius: 50%;\n",
              "      cursor: pointer;\n",
              "      display: none;\n",
              "      fill: #1967D2;\n",
              "      height: 32px;\n",
              "      padding: 0 0 0 0;\n",
              "      width: 32px;\n",
              "    }\n",
              "\n",
              "    .colab-df-convert:hover {\n",
              "      background-color: #E2EBFA;\n",
              "      box-shadow: 0px 1px 2px rgba(60, 64, 67, 0.3), 0px 1px 3px 1px rgba(60, 64, 67, 0.15);\n",
              "      fill: #174EA6;\n",
              "    }\n",
              "\n",
              "    [theme=dark] .colab-df-convert {\n",
              "      background-color: #3B4455;\n",
              "      fill: #D2E3FC;\n",
              "    }\n",
              "\n",
              "    [theme=dark] .colab-df-convert:hover {\n",
              "      background-color: #434B5C;\n",
              "      box-shadow: 0px 1px 3px 1px rgba(0, 0, 0, 0.15);\n",
              "      filter: drop-shadow(0px 1px 2px rgba(0, 0, 0, 0.3));\n",
              "      fill: #FFFFFF;\n",
              "    }\n",
              "  </style>\n",
              "\n",
              "      <script>\n",
              "        const buttonEl =\n",
              "          document.querySelector('#df-e8e75a8a-57c1-43cf-8909-b1f39c443236 button.colab-df-convert');\n",
              "        buttonEl.style.display =\n",
              "          google.colab.kernel.accessAllowed ? 'block' : 'none';\n",
              "\n",
              "        async function convertToInteractive(key) {\n",
              "          const element = document.querySelector('#df-e8e75a8a-57c1-43cf-8909-b1f39c443236');\n",
              "          const dataTable =\n",
              "            await google.colab.kernel.invokeFunction('convertToInteractive',\n",
              "                                                     [key], {});\n",
              "          if (!dataTable) return;\n",
              "\n",
              "          const docLinkHtml = 'Like what you see? Visit the ' +\n",
              "            '<a target=\"_blank\" href=https://colab.research.google.com/notebooks/data_table.ipynb>data table notebook</a>'\n",
              "            + ' to learn more about interactive tables.';\n",
              "          element.innerHTML = '';\n",
              "          dataTable['output_type'] = 'display_data';\n",
              "          await google.colab.output.renderOutput(dataTable, element);\n",
              "          const docLink = document.createElement('div');\n",
              "          docLink.innerHTML = docLinkHtml;\n",
              "          element.appendChild(docLink);\n",
              "        }\n",
              "      </script>\n",
              "    </div>\n",
              "  </div>\n",
              "  "
            ]
          },
          "metadata": {},
          "execution_count": 213
        }
      ]
    },
    {
      "cell_type": "code",
      "source": [
        "def g(txt,y):\n",
        "   txt=y+'#'+txt\n",
        "   x=[]\n",
        "   x =txt.split(\"| \")\n",
        "   #x[2]=y'\n",
        "   return x"
      ],
      "metadata": {
        "id": "IGtpapXvLsH-"
      },
      "execution_count": 214,
      "outputs": []
    },
    {
      "cell_type": "code",
      "source": [
        "result_clinic= [g(row,y) for row,y in zip(virtual_clinic_extract['procedures'], virtual_clinic_extract['clinic-name'])]"
      ],
      "metadata": {
        "id": "L8sxiCD0J_wP"
      },
      "execution_count": 215,
      "outputs": []
    },
    {
      "cell_type": "code",
      "source": [
        "x=[]\n",
        "relevant=[]\n",
        "line=[]\n",
        "\n",
        "for list in result_clinic:\n",
        "   klinik=list[0].split('#', 1)[0]\n",
        "   #print(klinik)\n",
        "   for row in list:\n",
        "   #print(row)\n",
        "       row=klinik+'#'+row\n",
        "       line=row.split(\"#\")\n",
        "       x.append(line)\n",
        "       if '3-80' in row or '3-82' in row or '3-84' in row:\n",
        "             relevant.append(line)\n",
        " \n"
      ],
      "metadata": {
        "id": "a-QqfhgNKQdt"
      },
      "execution_count": 216,
      "outputs": []
    },
    {
      "cell_type": "code",
      "source": [
        "mri_per_clinic = pd.DataFrame (relevant, columns = ['clinic_name','mri_type','date','none'])\n",
        "mri_per_clinic=mri_per_clinic.drop(columns=['none'])\n",
        "\n",
        "mri_per_clinic"
      ],
      "metadata": {
        "colab": {
          "base_uri": "https://localhost:8080/",
          "height": 0
        },
        "id": "53YNkXQINE_-",
        "outputId": "e9070a3f-dcf4-43f6-815a-64eb6b39aa2b"
      },
      "execution_count": 217,
      "outputs": [
        {
          "output_type": "execute_result",
          "data": {
            "text/plain": [
              "     clinic_name mri_type               date\n",
              "0       Klinik A    3-800  2018-06-22T16:05 \n",
              "1       Klinik A    3-800  2018-06-25T09:27 \n",
              "2       Klinik A    3-821  2018-05-02T15:19 \n",
              "3       Klinik A    3-800  2018-05-02T15:19 \n",
              "4       Klinik A    3-820  2018-10-22T08:43 \n",
              "...          ...      ...                ...\n",
              "6779    Klinik H    3-820  2020-12-08T13:52 \n",
              "6780    Klinik H    3-820  2020-12-08T13:52 \n",
              "6781    Klinik H    3-800  2020-11-27T09:38 \n",
              "6782    Klinik H    3-800  2020-12-16T12:21 \n",
              "6783    Klinik H    3-800  2020-12-15T12:48 \n",
              "\n",
              "[6784 rows x 3 columns]"
            ],
            "text/html": [
              "\n",
              "  <div id=\"df-a03df56c-c18a-4030-98e6-ceaaee0949cc\">\n",
              "    <div class=\"colab-df-container\">\n",
              "      <div>\n",
              "<style scoped>\n",
              "    .dataframe tbody tr th:only-of-type {\n",
              "        vertical-align: middle;\n",
              "    }\n",
              "\n",
              "    .dataframe tbody tr th {\n",
              "        vertical-align: top;\n",
              "    }\n",
              "\n",
              "    .dataframe thead th {\n",
              "        text-align: right;\n",
              "    }\n",
              "</style>\n",
              "<table border=\"1\" class=\"dataframe\">\n",
              "  <thead>\n",
              "    <tr style=\"text-align: right;\">\n",
              "      <th></th>\n",
              "      <th>clinic_name</th>\n",
              "      <th>mri_type</th>\n",
              "      <th>date</th>\n",
              "    </tr>\n",
              "  </thead>\n",
              "  <tbody>\n",
              "    <tr>\n",
              "      <th>0</th>\n",
              "      <td>Klinik A</td>\n",
              "      <td>3-800</td>\n",
              "      <td>2018-06-22T16:05</td>\n",
              "    </tr>\n",
              "    <tr>\n",
              "      <th>1</th>\n",
              "      <td>Klinik A</td>\n",
              "      <td>3-800</td>\n",
              "      <td>2018-06-25T09:27</td>\n",
              "    </tr>\n",
              "    <tr>\n",
              "      <th>2</th>\n",
              "      <td>Klinik A</td>\n",
              "      <td>3-821</td>\n",
              "      <td>2018-05-02T15:19</td>\n",
              "    </tr>\n",
              "    <tr>\n",
              "      <th>3</th>\n",
              "      <td>Klinik A</td>\n",
              "      <td>3-800</td>\n",
              "      <td>2018-05-02T15:19</td>\n",
              "    </tr>\n",
              "    <tr>\n",
              "      <th>4</th>\n",
              "      <td>Klinik A</td>\n",
              "      <td>3-820</td>\n",
              "      <td>2018-10-22T08:43</td>\n",
              "    </tr>\n",
              "    <tr>\n",
              "      <th>...</th>\n",
              "      <td>...</td>\n",
              "      <td>...</td>\n",
              "      <td>...</td>\n",
              "    </tr>\n",
              "    <tr>\n",
              "      <th>6779</th>\n",
              "      <td>Klinik H</td>\n",
              "      <td>3-820</td>\n",
              "      <td>2020-12-08T13:52</td>\n",
              "    </tr>\n",
              "    <tr>\n",
              "      <th>6780</th>\n",
              "      <td>Klinik H</td>\n",
              "      <td>3-820</td>\n",
              "      <td>2020-12-08T13:52</td>\n",
              "    </tr>\n",
              "    <tr>\n",
              "      <th>6781</th>\n",
              "      <td>Klinik H</td>\n",
              "      <td>3-800</td>\n",
              "      <td>2020-11-27T09:38</td>\n",
              "    </tr>\n",
              "    <tr>\n",
              "      <th>6782</th>\n",
              "      <td>Klinik H</td>\n",
              "      <td>3-800</td>\n",
              "      <td>2020-12-16T12:21</td>\n",
              "    </tr>\n",
              "    <tr>\n",
              "      <th>6783</th>\n",
              "      <td>Klinik H</td>\n",
              "      <td>3-800</td>\n",
              "      <td>2020-12-15T12:48</td>\n",
              "    </tr>\n",
              "  </tbody>\n",
              "</table>\n",
              "<p>6784 rows × 3 columns</p>\n",
              "</div>\n",
              "      <button class=\"colab-df-convert\" onclick=\"convertToInteractive('df-a03df56c-c18a-4030-98e6-ceaaee0949cc')\"\n",
              "              title=\"Convert this dataframe to an interactive table.\"\n",
              "              style=\"display:none;\">\n",
              "        \n",
              "  <svg xmlns=\"http://www.w3.org/2000/svg\" height=\"24px\"viewBox=\"0 0 24 24\"\n",
              "       width=\"24px\">\n",
              "    <path d=\"M0 0h24v24H0V0z\" fill=\"none\"/>\n",
              "    <path d=\"M18.56 5.44l.94 2.06.94-2.06 2.06-.94-2.06-.94-.94-2.06-.94 2.06-2.06.94zm-11 1L8.5 8.5l.94-2.06 2.06-.94-2.06-.94L8.5 2.5l-.94 2.06-2.06.94zm10 10l.94 2.06.94-2.06 2.06-.94-2.06-.94-.94-2.06-.94 2.06-2.06.94z\"/><path d=\"M17.41 7.96l-1.37-1.37c-.4-.4-.92-.59-1.43-.59-.52 0-1.04.2-1.43.59L10.3 9.45l-7.72 7.72c-.78.78-.78 2.05 0 2.83L4 21.41c.39.39.9.59 1.41.59.51 0 1.02-.2 1.41-.59l7.78-7.78 2.81-2.81c.8-.78.8-2.07 0-2.86zM5.41 20L4 18.59l7.72-7.72 1.47 1.35L5.41 20z\"/>\n",
              "  </svg>\n",
              "      </button>\n",
              "      \n",
              "  <style>\n",
              "    .colab-df-container {\n",
              "      display:flex;\n",
              "      flex-wrap:wrap;\n",
              "      gap: 12px;\n",
              "    }\n",
              "\n",
              "    .colab-df-convert {\n",
              "      background-color: #E8F0FE;\n",
              "      border: none;\n",
              "      border-radius: 50%;\n",
              "      cursor: pointer;\n",
              "      display: none;\n",
              "      fill: #1967D2;\n",
              "      height: 32px;\n",
              "      padding: 0 0 0 0;\n",
              "      width: 32px;\n",
              "    }\n",
              "\n",
              "    .colab-df-convert:hover {\n",
              "      background-color: #E2EBFA;\n",
              "      box-shadow: 0px 1px 2px rgba(60, 64, 67, 0.3), 0px 1px 3px 1px rgba(60, 64, 67, 0.15);\n",
              "      fill: #174EA6;\n",
              "    }\n",
              "\n",
              "    [theme=dark] .colab-df-convert {\n",
              "      background-color: #3B4455;\n",
              "      fill: #D2E3FC;\n",
              "    }\n",
              "\n",
              "    [theme=dark] .colab-df-convert:hover {\n",
              "      background-color: #434B5C;\n",
              "      box-shadow: 0px 1px 3px 1px rgba(0, 0, 0, 0.15);\n",
              "      filter: drop-shadow(0px 1px 2px rgba(0, 0, 0, 0.3));\n",
              "      fill: #FFFFFF;\n",
              "    }\n",
              "  </style>\n",
              "\n",
              "      <script>\n",
              "        const buttonEl =\n",
              "          document.querySelector('#df-a03df56c-c18a-4030-98e6-ceaaee0949cc button.colab-df-convert');\n",
              "        buttonEl.style.display =\n",
              "          google.colab.kernel.accessAllowed ? 'block' : 'none';\n",
              "\n",
              "        async function convertToInteractive(key) {\n",
              "          const element = document.querySelector('#df-a03df56c-c18a-4030-98e6-ceaaee0949cc');\n",
              "          const dataTable =\n",
              "            await google.colab.kernel.invokeFunction('convertToInteractive',\n",
              "                                                     [key], {});\n",
              "          if (!dataTable) return;\n",
              "\n",
              "          const docLinkHtml = 'Like what you see? Visit the ' +\n",
              "            '<a target=\"_blank\" href=https://colab.research.google.com/notebooks/data_table.ipynb>data table notebook</a>'\n",
              "            + ' to learn more about interactive tables.';\n",
              "          element.innerHTML = '';\n",
              "          dataTable['output_type'] = 'display_data';\n",
              "          await google.colab.output.renderOutput(dataTable, element);\n",
              "          const docLink = document.createElement('div');\n",
              "          docLink.innerHTML = docLinkHtml;\n",
              "          element.appendChild(docLink);\n",
              "        }\n",
              "      </script>\n",
              "    </div>\n",
              "  </div>\n",
              "  "
            ]
          },
          "metadata": {},
          "execution_count": 217
        }
      ]
    },
    {
      "cell_type": "code",
      "source": [
        "mri_per_clinic['date'] = [remove_time(row) for row in mri_per_clinic['date']]\n",
        "#mri_per_clinic['date'] = mri_per_clinic['date'].astype('datetime64[ns]')\n",
        "daily_mri_clinic = mri_per_clinic.groupby('clinic_name', as_index=False).count()\n",
        "daily_mri_clinic.columns = ['clinic_name', 'nb_cases','g']\n",
        "daily_mri_clinic=daily_mri_clinic.drop(columns=['g'])\n",
        "\n",
        "daily_mri_clinic"
      ],
      "metadata": {
        "colab": {
          "base_uri": "https://localhost:8080/",
          "height": 0
        },
        "id": "n23vBN__QkOn",
        "outputId": "5d5ca3ee-b73d-46e9-f856-94d535d52d60"
      },
      "execution_count": 218,
      "outputs": [
        {
          "output_type": "execute_result",
          "data": {
            "text/plain": [
              "  clinic_name  nb_cases\n",
              "0    Klinik A       214\n",
              "1    Klinik B      1382\n",
              "2    Klinik C       258\n",
              "3    Klinik D       651\n",
              "4    Klinik E       698\n",
              "5    Klinik F       243\n",
              "6    Klinik G      3191\n",
              "7    Klinik H       147"
            ],
            "text/html": [
              "\n",
              "  <div id=\"df-2148ef5e-f18f-41e7-badd-342f385a52eb\">\n",
              "    <div class=\"colab-df-container\">\n",
              "      <div>\n",
              "<style scoped>\n",
              "    .dataframe tbody tr th:only-of-type {\n",
              "        vertical-align: middle;\n",
              "    }\n",
              "\n",
              "    .dataframe tbody tr th {\n",
              "        vertical-align: top;\n",
              "    }\n",
              "\n",
              "    .dataframe thead th {\n",
              "        text-align: right;\n",
              "    }\n",
              "</style>\n",
              "<table border=\"1\" class=\"dataframe\">\n",
              "  <thead>\n",
              "    <tr style=\"text-align: right;\">\n",
              "      <th></th>\n",
              "      <th>clinic_name</th>\n",
              "      <th>nb_cases</th>\n",
              "    </tr>\n",
              "  </thead>\n",
              "  <tbody>\n",
              "    <tr>\n",
              "      <th>0</th>\n",
              "      <td>Klinik A</td>\n",
              "      <td>214</td>\n",
              "    </tr>\n",
              "    <tr>\n",
              "      <th>1</th>\n",
              "      <td>Klinik B</td>\n",
              "      <td>1382</td>\n",
              "    </tr>\n",
              "    <tr>\n",
              "      <th>2</th>\n",
              "      <td>Klinik C</td>\n",
              "      <td>258</td>\n",
              "    </tr>\n",
              "    <tr>\n",
              "      <th>3</th>\n",
              "      <td>Klinik D</td>\n",
              "      <td>651</td>\n",
              "    </tr>\n",
              "    <tr>\n",
              "      <th>4</th>\n",
              "      <td>Klinik E</td>\n",
              "      <td>698</td>\n",
              "    </tr>\n",
              "    <tr>\n",
              "      <th>5</th>\n",
              "      <td>Klinik F</td>\n",
              "      <td>243</td>\n",
              "    </tr>\n",
              "    <tr>\n",
              "      <th>6</th>\n",
              "      <td>Klinik G</td>\n",
              "      <td>3191</td>\n",
              "    </tr>\n",
              "    <tr>\n",
              "      <th>7</th>\n",
              "      <td>Klinik H</td>\n",
              "      <td>147</td>\n",
              "    </tr>\n",
              "  </tbody>\n",
              "</table>\n",
              "</div>\n",
              "      <button class=\"colab-df-convert\" onclick=\"convertToInteractive('df-2148ef5e-f18f-41e7-badd-342f385a52eb')\"\n",
              "              title=\"Convert this dataframe to an interactive table.\"\n",
              "              style=\"display:none;\">\n",
              "        \n",
              "  <svg xmlns=\"http://www.w3.org/2000/svg\" height=\"24px\"viewBox=\"0 0 24 24\"\n",
              "       width=\"24px\">\n",
              "    <path d=\"M0 0h24v24H0V0z\" fill=\"none\"/>\n",
              "    <path d=\"M18.56 5.44l.94 2.06.94-2.06 2.06-.94-2.06-.94-.94-2.06-.94 2.06-2.06.94zm-11 1L8.5 8.5l.94-2.06 2.06-.94-2.06-.94L8.5 2.5l-.94 2.06-2.06.94zm10 10l.94 2.06.94-2.06 2.06-.94-2.06-.94-.94-2.06-.94 2.06-2.06.94z\"/><path d=\"M17.41 7.96l-1.37-1.37c-.4-.4-.92-.59-1.43-.59-.52 0-1.04.2-1.43.59L10.3 9.45l-7.72 7.72c-.78.78-.78 2.05 0 2.83L4 21.41c.39.39.9.59 1.41.59.51 0 1.02-.2 1.41-.59l7.78-7.78 2.81-2.81c.8-.78.8-2.07 0-2.86zM5.41 20L4 18.59l7.72-7.72 1.47 1.35L5.41 20z\"/>\n",
              "  </svg>\n",
              "      </button>\n",
              "      \n",
              "  <style>\n",
              "    .colab-df-container {\n",
              "      display:flex;\n",
              "      flex-wrap:wrap;\n",
              "      gap: 12px;\n",
              "    }\n",
              "\n",
              "    .colab-df-convert {\n",
              "      background-color: #E8F0FE;\n",
              "      border: none;\n",
              "      border-radius: 50%;\n",
              "      cursor: pointer;\n",
              "      display: none;\n",
              "      fill: #1967D2;\n",
              "      height: 32px;\n",
              "      padding: 0 0 0 0;\n",
              "      width: 32px;\n",
              "    }\n",
              "\n",
              "    .colab-df-convert:hover {\n",
              "      background-color: #E2EBFA;\n",
              "      box-shadow: 0px 1px 2px rgba(60, 64, 67, 0.3), 0px 1px 3px 1px rgba(60, 64, 67, 0.15);\n",
              "      fill: #174EA6;\n",
              "    }\n",
              "\n",
              "    [theme=dark] .colab-df-convert {\n",
              "      background-color: #3B4455;\n",
              "      fill: #D2E3FC;\n",
              "    }\n",
              "\n",
              "    [theme=dark] .colab-df-convert:hover {\n",
              "      background-color: #434B5C;\n",
              "      box-shadow: 0px 1px 3px 1px rgba(0, 0, 0, 0.15);\n",
              "      filter: drop-shadow(0px 1px 2px rgba(0, 0, 0, 0.3));\n",
              "      fill: #FFFFFF;\n",
              "    }\n",
              "  </style>\n",
              "\n",
              "      <script>\n",
              "        const buttonEl =\n",
              "          document.querySelector('#df-2148ef5e-f18f-41e7-badd-342f385a52eb button.colab-df-convert');\n",
              "        buttonEl.style.display =\n",
              "          google.colab.kernel.accessAllowed ? 'block' : 'none';\n",
              "\n",
              "        async function convertToInteractive(key) {\n",
              "          const element = document.querySelector('#df-2148ef5e-f18f-41e7-badd-342f385a52eb');\n",
              "          const dataTable =\n",
              "            await google.colab.kernel.invokeFunction('convertToInteractive',\n",
              "                                                     [key], {});\n",
              "          if (!dataTable) return;\n",
              "\n",
              "          const docLinkHtml = 'Like what you see? Visit the ' +\n",
              "            '<a target=\"_blank\" href=https://colab.research.google.com/notebooks/data_table.ipynb>data table notebook</a>'\n",
              "            + ' to learn more about interactive tables.';\n",
              "          element.innerHTML = '';\n",
              "          dataTable['output_type'] = 'display_data';\n",
              "          await google.colab.output.renderOutput(dataTable, element);\n",
              "          const docLink = document.createElement('div');\n",
              "          docLink.innerHTML = docLinkHtml;\n",
              "          element.appendChild(docLink);\n",
              "        }\n",
              "      </script>\n",
              "    </div>\n",
              "  </div>\n",
              "  "
            ]
          },
          "metadata": {},
          "execution_count": 218
        }
      ]
    },
    {
      "cell_type": "code",
      "source": [
        "daily_mri_clinic.plot.bar(x='clinic_name', y='nb_cases' ,figsize=(15,4), grid=True)"
      ],
      "metadata": {
        "colab": {
          "base_uri": "https://localhost:8080/",
          "height": 0
        },
        "id": "8lWGxYm9SfDd",
        "outputId": "10512a28-bf98-4843-c504-369522ca303a"
      },
      "execution_count": 219,
      "outputs": [
        {
          "output_type": "execute_result",
          "data": {
            "text/plain": [
              "<matplotlib.axes._subplots.AxesSubplot at 0x7f8328926710>"
            ]
          },
          "metadata": {},
          "execution_count": 219
        },
        {
          "output_type": "display_data",
          "data": {
            "text/plain": [
              "<Figure size 1080x288 with 1 Axes>"
            ],
            "image/png": "[encoded data removed]"
          },
          "metadata": {}
        }
      ]
    },
    {
      "cell_type": "code",
      "source": [
        "#cleanup_nums = {\"Klinik G\": 7 ,\"Klinik B\": 6, \"Klinik E\": 5, \"Klinik D\": 4, \"Klinik C\": 3, \"Klinik F\": 2, \"Klinik H\": 1}\n",
        "#daily_mri_clinic['clinic_name'].replace(cleanup_nums)"
      ],
      "metadata": {
        "id": "jS9ZKz61WpoN"
      },
      "execution_count": 220,
      "outputs": []
    }
  ]
}